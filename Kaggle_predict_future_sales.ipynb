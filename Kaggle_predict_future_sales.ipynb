{
 "cells": [
  {
   "cell_type": "markdown",
   "metadata": {},
   "source": [
    "**In this notebook we are provided with daily historical sales [data](https://www.kaggle.com/c/competitive-data-science-predict-future-sales). The task is to forecast total sales for every product and store in the next month. Note that the list of shops and products slightly changes every month**"
   ]
  },
  {
   "cell_type": "markdown",
   "metadata": {},
   "source": [
    "**For a full description of the files and data fields please refer to the data description using the link above.**"
   ]
  },
  {
   "cell_type": "markdown",
   "metadata": {},
   "source": [
    "# 1. **Importing libraries**"
   ]
  },
  {
   "cell_type": "code",
   "execution_count": 1,
   "metadata": {
    "id": "DOj6mEGu53Ax",
    "outputId": "7423f665-76c6-46a2-9926-3dd7287f5f2d"
   },
   "outputs": [],
   "source": [
    "import numpy as np\n",
    "import pandas as pd \n",
    "import matplotlib.pyplot as plt\n",
    "import seaborn as sns\n",
    "%matplotlib inline"
   ]
  },
  {
   "cell_type": "markdown",
   "metadata": {},
   "source": [
    "# 2. **Importing the data files we will use.**"
   ]
  },
  {
   "cell_type": "code",
   "execution_count": 2,
   "metadata": {
    "id": "sWzUDDWn53BE"
   },
   "outputs": [],
   "source": [
    "data=pd.read_csv(r'../input/competitive-data-science-predict-future-sales/sales_train.csv') # The sales file\n",
    "\n",
    "testd=pd.read_csv(r'../input/competitive-data-science-predict-future-sales/test.csv') # The test file"
   ]
  },
  {
   "cell_type": "markdown",
   "metadata": {},
   "source": [
    "# 3. **Cleaning the data**"
   ]
  },
  {
   "cell_type": "markdown",
   "metadata": {},
   "source": [
    "**Let's make a dataframe \"grid\" where we have every combination of shop_id, item_id and date_block_num.**"
   ]
  },
  {
   "cell_type": "code",
   "execution_count": 3,
   "metadata": {
    "id": "x337cSgB53C3"
   },
   "outputs": [],
   "source": [
    "from itertools import product\n",
    "index_cols = ['shop_id', 'item_id', 'date_block_num']\n",
    "grid = []\n",
    "for i in data['date_block_num'].unique():\n",
    "    cur_shops = data.loc[data['date_block_num'] == i, 'shop_id'].unique()\n",
    "    cur_items = data.loc[data['date_block_num'] == i, 'item_id'].unique()\n",
    "    grid.append(np.array(list(product(*[cur_shops, cur_items, [i]])), dtype='int32'))\n",
    "grid = pd.DataFrame(np.vstack(grid), columns = index_cols, dtype=np.int32)"
   ]
  },
  {
   "cell_type": "code",
   "execution_count": 4,
   "metadata": {},
   "outputs": [
    {
     "data": {
      "text/html": [
       "<div>\n",
       "<style scoped>\n",
       "    .dataframe tbody tr th:only-of-type {\n",
       "        vertical-align: middle;\n",
       "    }\n",
       "\n",
       "    .dataframe tbody tr th {\n",
       "        vertical-align: top;\n",
       "    }\n",
       "\n",
       "    .dataframe thead th {\n",
       "        text-align: right;\n",
       "    }\n",
       "</style>\n",
       "<table border=\"1\" class=\"dataframe\">\n",
       "  <thead>\n",
       "    <tr style=\"text-align: right;\">\n",
       "      <th></th>\n",
       "      <th>shop_id</th>\n",
       "      <th>item_id</th>\n",
       "      <th>date_block_num</th>\n",
       "    </tr>\n",
       "  </thead>\n",
       "  <tbody>\n",
       "    <tr>\n",
       "      <th>0</th>\n",
       "      <td>59</td>\n",
       "      <td>22154</td>\n",
       "      <td>0</td>\n",
       "    </tr>\n",
       "    <tr>\n",
       "      <th>1</th>\n",
       "      <td>59</td>\n",
       "      <td>2552</td>\n",
       "      <td>0</td>\n",
       "    </tr>\n",
       "    <tr>\n",
       "      <th>2</th>\n",
       "      <td>59</td>\n",
       "      <td>2554</td>\n",
       "      <td>0</td>\n",
       "    </tr>\n",
       "    <tr>\n",
       "      <th>3</th>\n",
       "      <td>59</td>\n",
       "      <td>2555</td>\n",
       "      <td>0</td>\n",
       "    </tr>\n",
       "    <tr>\n",
       "      <th>4</th>\n",
       "      <td>59</td>\n",
       "      <td>2564</td>\n",
       "      <td>0</td>\n",
       "    </tr>\n",
       "  </tbody>\n",
       "</table>\n",
       "</div>"
      ],
      "text/plain": [
       "   shop_id  item_id  date_block_num\n",
       "0       59    22154               0\n",
       "1       59     2552               0\n",
       "2       59     2554               0\n",
       "3       59     2555               0\n",
       "4       59     2564               0"
      ]
     },
     "execution_count": 4,
     "metadata": {},
     "output_type": "execute_result"
    }
   ],
   "source": [
    "grid.head()"
   ]
  },
  {
   "cell_type": "markdown",
   "metadata": {},
   "source": [
    "**Now we are going to group the dataframe \"data\" by the columns shop_id, item_id and date_block_num while having the sum of item_cnt_day and the mean of item_price**"
   ]
  },
  {
   "cell_type": "code",
   "execution_count": 5,
   "metadata": {
    "id": "-NCvsxxI53D4"
   },
   "outputs": [],
   "source": [
    "data=data.groupby(by=['date_block_num', 'shop_id', 'item_id']).agg({'item_cnt_day':'sum','item_price':np.mean}).reset_index()"
   ]
  },
  {
   "cell_type": "markdown",
   "metadata": {},
   "source": [
    "**Let's merge the grouped 'data' with 'grid'**"
   ]
  },
  {
   "cell_type": "code",
   "execution_count": 6,
   "metadata": {
    "id": "DMMLfsIb53D8"
   },
   "outputs": [],
   "source": [
    "data = pd.merge(grid,data,on=['date_block_num', 'shop_id', 'item_id'],how='left').fillna(0)"
   ]
  },
  {
   "cell_type": "code",
   "execution_count": 7,
   "metadata": {
    "id": "Y5UeYv3V53EI",
    "outputId": "84ba98ee-d26c-4926-bf5d-6a05046256dc"
   },
   "outputs": [
    {
     "data": {
      "text/html": [
       "<div>\n",
       "<style scoped>\n",
       "    .dataframe tbody tr th:only-of-type {\n",
       "        vertical-align: middle;\n",
       "    }\n",
       "\n",
       "    .dataframe tbody tr th {\n",
       "        vertical-align: top;\n",
       "    }\n",
       "\n",
       "    .dataframe thead th {\n",
       "        text-align: right;\n",
       "    }\n",
       "</style>\n",
       "<table border=\"1\" class=\"dataframe\">\n",
       "  <thead>\n",
       "    <tr style=\"text-align: right;\">\n",
       "      <th></th>\n",
       "      <th>shop_id</th>\n",
       "      <th>item_id</th>\n",
       "      <th>date_block_num</th>\n",
       "      <th>item_cnt_day</th>\n",
       "      <th>item_price</th>\n",
       "    </tr>\n",
       "  </thead>\n",
       "  <tbody>\n",
       "    <tr>\n",
       "      <th>0</th>\n",
       "      <td>59</td>\n",
       "      <td>22154</td>\n",
       "      <td>0</td>\n",
       "      <td>1.0</td>\n",
       "      <td>999.0</td>\n",
       "    </tr>\n",
       "    <tr>\n",
       "      <th>1</th>\n",
       "      <td>59</td>\n",
       "      <td>2552</td>\n",
       "      <td>0</td>\n",
       "      <td>0.0</td>\n",
       "      <td>0.0</td>\n",
       "    </tr>\n",
       "    <tr>\n",
       "      <th>2</th>\n",
       "      <td>59</td>\n",
       "      <td>2554</td>\n",
       "      <td>0</td>\n",
       "      <td>0.0</td>\n",
       "      <td>0.0</td>\n",
       "    </tr>\n",
       "    <tr>\n",
       "      <th>3</th>\n",
       "      <td>59</td>\n",
       "      <td>2555</td>\n",
       "      <td>0</td>\n",
       "      <td>0.0</td>\n",
       "      <td>0.0</td>\n",
       "    </tr>\n",
       "    <tr>\n",
       "      <th>4</th>\n",
       "      <td>59</td>\n",
       "      <td>2564</td>\n",
       "      <td>0</td>\n",
       "      <td>0.0</td>\n",
       "      <td>0.0</td>\n",
       "    </tr>\n",
       "  </tbody>\n",
       "</table>\n",
       "</div>"
      ],
      "text/plain": [
       "   shop_id  item_id  date_block_num  item_cnt_day  item_price\n",
       "0       59    22154               0           1.0       999.0\n",
       "1       59     2552               0           0.0         0.0\n",
       "2       59     2554               0           0.0         0.0\n",
       "3       59     2555               0           0.0         0.0\n",
       "4       59     2564               0           0.0         0.0"
      ]
     },
     "execution_count": 7,
     "metadata": {},
     "output_type": "execute_result"
    }
   ],
   "source": [
    "data.head()"
   ]
  },
  {
   "cell_type": "markdown",
   "metadata": {},
   "source": [
    "**Now we will Hot encode the data and have the columns be the consecutive months and the rows be the unique combinations of item_id and shop_id.**"
   ]
  },
  {
   "cell_type": "code",
   "execution_count": 8,
   "metadata": {
    "id": "1bWtEKtGXlwC"
   },
   "outputs": [],
   "source": [
    "data=data.pivot_table(index=['item_id','shop_id'], columns='date_block_num',values='item_cnt_day',fill_value=0).reset_index()"
   ]
  },
  {
   "cell_type": "code",
   "execution_count": 9,
   "metadata": {
    "id": "PLm-Im_FY--W",
    "outputId": "52e93af2-3514-4937-ed08-4b0fd4cc3164"
   },
   "outputs": [
    {
     "data": {
      "text/html": [
       "<div>\n",
       "<style scoped>\n",
       "    .dataframe tbody tr th:only-of-type {\n",
       "        vertical-align: middle;\n",
       "    }\n",
       "\n",
       "    .dataframe tbody tr th {\n",
       "        vertical-align: top;\n",
       "    }\n",
       "\n",
       "    .dataframe thead th {\n",
       "        text-align: right;\n",
       "    }\n",
       "</style>\n",
       "<table border=\"1\" class=\"dataframe\">\n",
       "  <thead>\n",
       "    <tr style=\"text-align: right;\">\n",
       "      <th>date_block_num</th>\n",
       "      <th>item_id</th>\n",
       "      <th>shop_id</th>\n",
       "      <th>0</th>\n",
       "      <th>1</th>\n",
       "      <th>2</th>\n",
       "      <th>3</th>\n",
       "      <th>4</th>\n",
       "      <th>5</th>\n",
       "      <th>6</th>\n",
       "      <th>7</th>\n",
       "      <th>...</th>\n",
       "      <th>24</th>\n",
       "      <th>25</th>\n",
       "      <th>26</th>\n",
       "      <th>27</th>\n",
       "      <th>28</th>\n",
       "      <th>29</th>\n",
       "      <th>30</th>\n",
       "      <th>31</th>\n",
       "      <th>32</th>\n",
       "      <th>33</th>\n",
       "    </tr>\n",
       "  </thead>\n",
       "  <tbody>\n",
       "    <tr>\n",
       "      <th>0</th>\n",
       "      <td>0</td>\n",
       "      <td>2</td>\n",
       "      <td>0</td>\n",
       "      <td>0</td>\n",
       "      <td>0</td>\n",
       "      <td>0</td>\n",
       "      <td>0</td>\n",
       "      <td>0</td>\n",
       "      <td>0</td>\n",
       "      <td>0</td>\n",
       "      <td>...</td>\n",
       "      <td>0</td>\n",
       "      <td>0</td>\n",
       "      <td>0</td>\n",
       "      <td>0</td>\n",
       "      <td>0</td>\n",
       "      <td>0</td>\n",
       "      <td>0</td>\n",
       "      <td>0</td>\n",
       "      <td>0</td>\n",
       "      <td>0</td>\n",
       "    </tr>\n",
       "    <tr>\n",
       "      <th>1</th>\n",
       "      <td>0</td>\n",
       "      <td>3</td>\n",
       "      <td>0</td>\n",
       "      <td>0</td>\n",
       "      <td>0</td>\n",
       "      <td>0</td>\n",
       "      <td>0</td>\n",
       "      <td>0</td>\n",
       "      <td>0</td>\n",
       "      <td>0</td>\n",
       "      <td>...</td>\n",
       "      <td>0</td>\n",
       "      <td>0</td>\n",
       "      <td>0</td>\n",
       "      <td>0</td>\n",
       "      <td>0</td>\n",
       "      <td>0</td>\n",
       "      <td>0</td>\n",
       "      <td>0</td>\n",
       "      <td>0</td>\n",
       "      <td>0</td>\n",
       "    </tr>\n",
       "    <tr>\n",
       "      <th>2</th>\n",
       "      <td>0</td>\n",
       "      <td>4</td>\n",
       "      <td>0</td>\n",
       "      <td>0</td>\n",
       "      <td>0</td>\n",
       "      <td>0</td>\n",
       "      <td>0</td>\n",
       "      <td>0</td>\n",
       "      <td>0</td>\n",
       "      <td>0</td>\n",
       "      <td>...</td>\n",
       "      <td>0</td>\n",
       "      <td>0</td>\n",
       "      <td>0</td>\n",
       "      <td>0</td>\n",
       "      <td>0</td>\n",
       "      <td>0</td>\n",
       "      <td>0</td>\n",
       "      <td>0</td>\n",
       "      <td>0</td>\n",
       "      <td>0</td>\n",
       "    </tr>\n",
       "    <tr>\n",
       "      <th>3</th>\n",
       "      <td>0</td>\n",
       "      <td>5</td>\n",
       "      <td>0</td>\n",
       "      <td>0</td>\n",
       "      <td>0</td>\n",
       "      <td>0</td>\n",
       "      <td>0</td>\n",
       "      <td>0</td>\n",
       "      <td>0</td>\n",
       "      <td>0</td>\n",
       "      <td>...</td>\n",
       "      <td>0</td>\n",
       "      <td>0</td>\n",
       "      <td>0</td>\n",
       "      <td>0</td>\n",
       "      <td>0</td>\n",
       "      <td>0</td>\n",
       "      <td>0</td>\n",
       "      <td>0</td>\n",
       "      <td>0</td>\n",
       "      <td>0</td>\n",
       "    </tr>\n",
       "    <tr>\n",
       "      <th>4</th>\n",
       "      <td>0</td>\n",
       "      <td>6</td>\n",
       "      <td>0</td>\n",
       "      <td>0</td>\n",
       "      <td>0</td>\n",
       "      <td>0</td>\n",
       "      <td>0</td>\n",
       "      <td>0</td>\n",
       "      <td>0</td>\n",
       "      <td>0</td>\n",
       "      <td>...</td>\n",
       "      <td>0</td>\n",
       "      <td>0</td>\n",
       "      <td>0</td>\n",
       "      <td>0</td>\n",
       "      <td>0</td>\n",
       "      <td>0</td>\n",
       "      <td>0</td>\n",
       "      <td>0</td>\n",
       "      <td>0</td>\n",
       "      <td>0</td>\n",
       "    </tr>\n",
       "  </tbody>\n",
       "</table>\n",
       "<p>5 rows × 36 columns</p>\n",
       "</div>"
      ],
      "text/plain": [
       "date_block_num  item_id  shop_id  0  1  2  3  4  5  6  7  ...  24  25  26  27  \\\n",
       "0                     0        2  0  0  0  0  0  0  0  0  ...   0   0   0   0   \n",
       "1                     0        3  0  0  0  0  0  0  0  0  ...   0   0   0   0   \n",
       "2                     0        4  0  0  0  0  0  0  0  0  ...   0   0   0   0   \n",
       "3                     0        5  0  0  0  0  0  0  0  0  ...   0   0   0   0   \n",
       "4                     0        6  0  0  0  0  0  0  0  0  ...   0   0   0   0   \n",
       "\n",
       "date_block_num  28  29  30  31  32  33  \n",
       "0                0   0   0   0   0   0  \n",
       "1                0   0   0   0   0   0  \n",
       "2                0   0   0   0   0   0  \n",
       "3                0   0   0   0   0   0  \n",
       "4                0   0   0   0   0   0  \n",
       "\n",
       "[5 rows x 36 columns]"
      ]
     },
     "execution_count": 9,
     "metadata": {},
     "output_type": "execute_result"
    }
   ],
   "source": [
    "data.head()"
   ]
  },
  {
   "cell_type": "code",
   "execution_count": 10,
   "metadata": {
    "id": "DwvIQDYfY_El",
    "outputId": "6a39b635-b30f-4f72-bbc5-eb1b5a656316"
   },
   "outputs": [
    {
     "data": {
      "text/html": [
       "<div>\n",
       "<style scoped>\n",
       "    .dataframe tbody tr th:only-of-type {\n",
       "        vertical-align: middle;\n",
       "    }\n",
       "\n",
       "    .dataframe tbody tr th {\n",
       "        vertical-align: top;\n",
       "    }\n",
       "\n",
       "    .dataframe thead th {\n",
       "        text-align: right;\n",
       "    }\n",
       "</style>\n",
       "<table border=\"1\" class=\"dataframe\">\n",
       "  <thead>\n",
       "    <tr style=\"text-align: right;\">\n",
       "      <th></th>\n",
       "      <th>ID</th>\n",
       "      <th>shop_id</th>\n",
       "      <th>item_id</th>\n",
       "    </tr>\n",
       "  </thead>\n",
       "  <tbody>\n",
       "    <tr>\n",
       "      <th>0</th>\n",
       "      <td>0</td>\n",
       "      <td>5</td>\n",
       "      <td>5037</td>\n",
       "    </tr>\n",
       "    <tr>\n",
       "      <th>1</th>\n",
       "      <td>1</td>\n",
       "      <td>5</td>\n",
       "      <td>5320</td>\n",
       "    </tr>\n",
       "    <tr>\n",
       "      <th>2</th>\n",
       "      <td>2</td>\n",
       "      <td>5</td>\n",
       "      <td>5233</td>\n",
       "    </tr>\n",
       "    <tr>\n",
       "      <th>3</th>\n",
       "      <td>3</td>\n",
       "      <td>5</td>\n",
       "      <td>5232</td>\n",
       "    </tr>\n",
       "    <tr>\n",
       "      <th>4</th>\n",
       "      <td>4</td>\n",
       "      <td>5</td>\n",
       "      <td>5268</td>\n",
       "    </tr>\n",
       "  </tbody>\n",
       "</table>\n",
       "</div>"
      ],
      "text/plain": [
       "   ID  shop_id  item_id\n",
       "0   0        5     5037\n",
       "1   1        5     5320\n",
       "2   2        5     5233\n",
       "3   3        5     5232\n",
       "4   4        5     5268"
      ]
     },
     "execution_count": 10,
     "metadata": {},
     "output_type": "execute_result"
    }
   ],
   "source": [
    "testd.head()"
   ]
  },
  {
   "cell_type": "markdown",
   "metadata": {},
   "source": [
    "**Now we merge the test data into the cleaned data.**"
   ]
  },
  {
   "cell_type": "code",
   "execution_count": 11,
   "metadata": {
    "id": "LsCF48C2Y_Cc"
   },
   "outputs": [],
   "source": [
    "df=pd.merge(testd, data, on=['item_id','shop_id'], how='left')"
   ]
  },
  {
   "cell_type": "code",
   "execution_count": 12,
   "metadata": {
    "id": "Fe3yXZA5Y-7s"
   },
   "outputs": [],
   "source": [
    "df=df.fillna(0)"
   ]
  },
  {
   "cell_type": "code",
   "execution_count": 13,
   "metadata": {
    "id": "pbO-KygIDO-E",
    "outputId": "c9d2e14d-3505-483a-ba7b-1900a9fe4fe2"
   },
   "outputs": [
    {
     "data": {
      "text/html": [
       "<div>\n",
       "<style scoped>\n",
       "    .dataframe tbody tr th:only-of-type {\n",
       "        vertical-align: middle;\n",
       "    }\n",
       "\n",
       "    .dataframe tbody tr th {\n",
       "        vertical-align: top;\n",
       "    }\n",
       "\n",
       "    .dataframe thead th {\n",
       "        text-align: right;\n",
       "    }\n",
       "</style>\n",
       "<table border=\"1\" class=\"dataframe\">\n",
       "  <thead>\n",
       "    <tr style=\"text-align: right;\">\n",
       "      <th></th>\n",
       "      <th>ID</th>\n",
       "      <th>shop_id</th>\n",
       "      <th>item_id</th>\n",
       "      <th>0</th>\n",
       "      <th>1</th>\n",
       "      <th>2</th>\n",
       "      <th>3</th>\n",
       "      <th>4</th>\n",
       "      <th>5</th>\n",
       "      <th>6</th>\n",
       "      <th>...</th>\n",
       "      <th>24</th>\n",
       "      <th>25</th>\n",
       "      <th>26</th>\n",
       "      <th>27</th>\n",
       "      <th>28</th>\n",
       "      <th>29</th>\n",
       "      <th>30</th>\n",
       "      <th>31</th>\n",
       "      <th>32</th>\n",
       "      <th>33</th>\n",
       "    </tr>\n",
       "  </thead>\n",
       "  <tbody>\n",
       "    <tr>\n",
       "      <th>0</th>\n",
       "      <td>0</td>\n",
       "      <td>5</td>\n",
       "      <td>5037</td>\n",
       "      <td>0.0</td>\n",
       "      <td>0.0</td>\n",
       "      <td>0.0</td>\n",
       "      <td>0.0</td>\n",
       "      <td>0.0</td>\n",
       "      <td>0.0</td>\n",
       "      <td>0.0</td>\n",
       "      <td>...</td>\n",
       "      <td>2.0</td>\n",
       "      <td>0.0</td>\n",
       "      <td>0.0</td>\n",
       "      <td>0.0</td>\n",
       "      <td>1.0</td>\n",
       "      <td>1.0</td>\n",
       "      <td>1.0</td>\n",
       "      <td>3.0</td>\n",
       "      <td>1.0</td>\n",
       "      <td>0.0</td>\n",
       "    </tr>\n",
       "    <tr>\n",
       "      <th>1</th>\n",
       "      <td>1</td>\n",
       "      <td>5</td>\n",
       "      <td>5320</td>\n",
       "      <td>0.0</td>\n",
       "      <td>0.0</td>\n",
       "      <td>0.0</td>\n",
       "      <td>0.0</td>\n",
       "      <td>0.0</td>\n",
       "      <td>0.0</td>\n",
       "      <td>0.0</td>\n",
       "      <td>...</td>\n",
       "      <td>0.0</td>\n",
       "      <td>0.0</td>\n",
       "      <td>0.0</td>\n",
       "      <td>0.0</td>\n",
       "      <td>0.0</td>\n",
       "      <td>0.0</td>\n",
       "      <td>0.0</td>\n",
       "      <td>0.0</td>\n",
       "      <td>0.0</td>\n",
       "      <td>0.0</td>\n",
       "    </tr>\n",
       "    <tr>\n",
       "      <th>2</th>\n",
       "      <td>2</td>\n",
       "      <td>5</td>\n",
       "      <td>5233</td>\n",
       "      <td>0.0</td>\n",
       "      <td>0.0</td>\n",
       "      <td>0.0</td>\n",
       "      <td>0.0</td>\n",
       "      <td>0.0</td>\n",
       "      <td>0.0</td>\n",
       "      <td>0.0</td>\n",
       "      <td>...</td>\n",
       "      <td>0.0</td>\n",
       "      <td>0.0</td>\n",
       "      <td>0.0</td>\n",
       "      <td>0.0</td>\n",
       "      <td>3.0</td>\n",
       "      <td>2.0</td>\n",
       "      <td>0.0</td>\n",
       "      <td>1.0</td>\n",
       "      <td>3.0</td>\n",
       "      <td>1.0</td>\n",
       "    </tr>\n",
       "    <tr>\n",
       "      <th>3</th>\n",
       "      <td>3</td>\n",
       "      <td>5</td>\n",
       "      <td>5232</td>\n",
       "      <td>0.0</td>\n",
       "      <td>0.0</td>\n",
       "      <td>0.0</td>\n",
       "      <td>0.0</td>\n",
       "      <td>0.0</td>\n",
       "      <td>0.0</td>\n",
       "      <td>0.0</td>\n",
       "      <td>...</td>\n",
       "      <td>0.0</td>\n",
       "      <td>0.0</td>\n",
       "      <td>0.0</td>\n",
       "      <td>0.0</td>\n",
       "      <td>0.0</td>\n",
       "      <td>0.0</td>\n",
       "      <td>0.0</td>\n",
       "      <td>1.0</td>\n",
       "      <td>0.0</td>\n",
       "      <td>0.0</td>\n",
       "    </tr>\n",
       "    <tr>\n",
       "      <th>4</th>\n",
       "      <td>4</td>\n",
       "      <td>5</td>\n",
       "      <td>5268</td>\n",
       "      <td>0.0</td>\n",
       "      <td>0.0</td>\n",
       "      <td>0.0</td>\n",
       "      <td>0.0</td>\n",
       "      <td>0.0</td>\n",
       "      <td>0.0</td>\n",
       "      <td>0.0</td>\n",
       "      <td>...</td>\n",
       "      <td>0.0</td>\n",
       "      <td>0.0</td>\n",
       "      <td>0.0</td>\n",
       "      <td>0.0</td>\n",
       "      <td>0.0</td>\n",
       "      <td>0.0</td>\n",
       "      <td>0.0</td>\n",
       "      <td>0.0</td>\n",
       "      <td>0.0</td>\n",
       "      <td>0.0</td>\n",
       "    </tr>\n",
       "  </tbody>\n",
       "</table>\n",
       "<p>5 rows × 37 columns</p>\n",
       "</div>"
      ],
      "text/plain": [
       "   ID  shop_id  item_id    0    1    2    3    4    5    6  ...   24   25  \\\n",
       "0   0        5     5037  0.0  0.0  0.0  0.0  0.0  0.0  0.0  ...  2.0  0.0   \n",
       "1   1        5     5320  0.0  0.0  0.0  0.0  0.0  0.0  0.0  ...  0.0  0.0   \n",
       "2   2        5     5233  0.0  0.0  0.0  0.0  0.0  0.0  0.0  ...  0.0  0.0   \n",
       "3   3        5     5232  0.0  0.0  0.0  0.0  0.0  0.0  0.0  ...  0.0  0.0   \n",
       "4   4        5     5268  0.0  0.0  0.0  0.0  0.0  0.0  0.0  ...  0.0  0.0   \n",
       "\n",
       "    26   27   28   29   30   31   32   33  \n",
       "0  0.0  0.0  1.0  1.0  1.0  3.0  1.0  0.0  \n",
       "1  0.0  0.0  0.0  0.0  0.0  0.0  0.0  0.0  \n",
       "2  0.0  0.0  3.0  2.0  0.0  1.0  3.0  1.0  \n",
       "3  0.0  0.0  0.0  0.0  0.0  1.0  0.0  0.0  \n",
       "4  0.0  0.0  0.0  0.0  0.0  0.0  0.0  0.0  \n",
       "\n",
       "[5 rows x 37 columns]"
      ]
     },
     "execution_count": 13,
     "metadata": {},
     "output_type": "execute_result"
    }
   ],
   "source": [
    "df.head()"
   ]
  },
  {
   "cell_type": "markdown",
   "metadata": {},
   "source": [
    "**let's drop the uninterpretable values.**"
   ]
  },
  {
   "cell_type": "code",
   "execution_count": 14,
   "metadata": {
    "id": "M8aFkFCna5v6"
   },
   "outputs": [],
   "source": [
    "df = df.drop(labels=['ID', 'shop_id', 'item_id'], axis=1)"
   ]
  },
  {
   "cell_type": "code",
   "execution_count": 15,
   "metadata": {
    "id": "HiGqe4vU0GVG",
    "outputId": "359b1dd0-70b8-443b-8586-667efba40a22"
   },
   "outputs": [
    {
     "data": {
      "text/plain": [
       "(214200, 34)"
      ]
     },
     "execution_count": 15,
     "metadata": {},
     "output_type": "execute_result"
    }
   ],
   "source": [
    "df.shape"
   ]
  },
  {
   "cell_type": "markdown",
   "metadata": {},
   "source": [
    "**Now we will make a vector of zeros with 214200 unit length to add it to the data later.**"
   ]
  },
  {
   "cell_type": "code",
   "execution_count": 16,
   "metadata": {
    "id": "Oi0S_6zo2oPd"
   },
   "outputs": [],
   "source": [
    "last_month=pd.DataFrame(np.zeros((214200, 1)),dtype='float',columns=[34])"
   ]
  },
  {
   "cell_type": "code",
   "execution_count": 17,
   "metadata": {
    "id": "uUD01yQY2uLl"
   },
   "outputs": [],
   "source": [
    "df=pd.concat([df,last_month],axis=1)"
   ]
  },
  {
   "cell_type": "code",
   "execution_count": 18,
   "metadata": {
    "id": "cNeihaUZa9H8",
    "outputId": "f921db2f-261e-4f48-e8c7-553585c7c90b"
   },
   "outputs": [
    {
     "data": {
      "text/html": [
       "<div>\n",
       "<style scoped>\n",
       "    .dataframe tbody tr th:only-of-type {\n",
       "        vertical-align: middle;\n",
       "    }\n",
       "\n",
       "    .dataframe tbody tr th {\n",
       "        vertical-align: top;\n",
       "    }\n",
       "\n",
       "    .dataframe thead th {\n",
       "        text-align: right;\n",
       "    }\n",
       "</style>\n",
       "<table border=\"1\" class=\"dataframe\">\n",
       "  <thead>\n",
       "    <tr style=\"text-align: right;\">\n",
       "      <th></th>\n",
       "      <th>0</th>\n",
       "      <th>1</th>\n",
       "      <th>2</th>\n",
       "      <th>3</th>\n",
       "      <th>4</th>\n",
       "      <th>5</th>\n",
       "      <th>6</th>\n",
       "      <th>7</th>\n",
       "      <th>8</th>\n",
       "      <th>9</th>\n",
       "      <th>...</th>\n",
       "      <th>25</th>\n",
       "      <th>26</th>\n",
       "      <th>27</th>\n",
       "      <th>28</th>\n",
       "      <th>29</th>\n",
       "      <th>30</th>\n",
       "      <th>31</th>\n",
       "      <th>32</th>\n",
       "      <th>33</th>\n",
       "      <th>34</th>\n",
       "    </tr>\n",
       "  </thead>\n",
       "  <tbody>\n",
       "    <tr>\n",
       "      <th>0</th>\n",
       "      <td>0.0</td>\n",
       "      <td>0.0</td>\n",
       "      <td>0.0</td>\n",
       "      <td>0.0</td>\n",
       "      <td>0.0</td>\n",
       "      <td>0.0</td>\n",
       "      <td>0.0</td>\n",
       "      <td>0.0</td>\n",
       "      <td>0.0</td>\n",
       "      <td>0.0</td>\n",
       "      <td>...</td>\n",
       "      <td>0.0</td>\n",
       "      <td>0.0</td>\n",
       "      <td>0.0</td>\n",
       "      <td>1.0</td>\n",
       "      <td>1.0</td>\n",
       "      <td>1.0</td>\n",
       "      <td>3.0</td>\n",
       "      <td>1.0</td>\n",
       "      <td>0.0</td>\n",
       "      <td>0.0</td>\n",
       "    </tr>\n",
       "    <tr>\n",
       "      <th>1</th>\n",
       "      <td>0.0</td>\n",
       "      <td>0.0</td>\n",
       "      <td>0.0</td>\n",
       "      <td>0.0</td>\n",
       "      <td>0.0</td>\n",
       "      <td>0.0</td>\n",
       "      <td>0.0</td>\n",
       "      <td>0.0</td>\n",
       "      <td>0.0</td>\n",
       "      <td>0.0</td>\n",
       "      <td>...</td>\n",
       "      <td>0.0</td>\n",
       "      <td>0.0</td>\n",
       "      <td>0.0</td>\n",
       "      <td>0.0</td>\n",
       "      <td>0.0</td>\n",
       "      <td>0.0</td>\n",
       "      <td>0.0</td>\n",
       "      <td>0.0</td>\n",
       "      <td>0.0</td>\n",
       "      <td>0.0</td>\n",
       "    </tr>\n",
       "    <tr>\n",
       "      <th>2</th>\n",
       "      <td>0.0</td>\n",
       "      <td>0.0</td>\n",
       "      <td>0.0</td>\n",
       "      <td>0.0</td>\n",
       "      <td>0.0</td>\n",
       "      <td>0.0</td>\n",
       "      <td>0.0</td>\n",
       "      <td>0.0</td>\n",
       "      <td>0.0</td>\n",
       "      <td>0.0</td>\n",
       "      <td>...</td>\n",
       "      <td>0.0</td>\n",
       "      <td>0.0</td>\n",
       "      <td>0.0</td>\n",
       "      <td>3.0</td>\n",
       "      <td>2.0</td>\n",
       "      <td>0.0</td>\n",
       "      <td>1.0</td>\n",
       "      <td>3.0</td>\n",
       "      <td>1.0</td>\n",
       "      <td>0.0</td>\n",
       "    </tr>\n",
       "    <tr>\n",
       "      <th>3</th>\n",
       "      <td>0.0</td>\n",
       "      <td>0.0</td>\n",
       "      <td>0.0</td>\n",
       "      <td>0.0</td>\n",
       "      <td>0.0</td>\n",
       "      <td>0.0</td>\n",
       "      <td>0.0</td>\n",
       "      <td>0.0</td>\n",
       "      <td>0.0</td>\n",
       "      <td>0.0</td>\n",
       "      <td>...</td>\n",
       "      <td>0.0</td>\n",
       "      <td>0.0</td>\n",
       "      <td>0.0</td>\n",
       "      <td>0.0</td>\n",
       "      <td>0.0</td>\n",
       "      <td>0.0</td>\n",
       "      <td>1.0</td>\n",
       "      <td>0.0</td>\n",
       "      <td>0.0</td>\n",
       "      <td>0.0</td>\n",
       "    </tr>\n",
       "    <tr>\n",
       "      <th>4</th>\n",
       "      <td>0.0</td>\n",
       "      <td>0.0</td>\n",
       "      <td>0.0</td>\n",
       "      <td>0.0</td>\n",
       "      <td>0.0</td>\n",
       "      <td>0.0</td>\n",
       "      <td>0.0</td>\n",
       "      <td>0.0</td>\n",
       "      <td>0.0</td>\n",
       "      <td>0.0</td>\n",
       "      <td>...</td>\n",
       "      <td>0.0</td>\n",
       "      <td>0.0</td>\n",
       "      <td>0.0</td>\n",
       "      <td>0.0</td>\n",
       "      <td>0.0</td>\n",
       "      <td>0.0</td>\n",
       "      <td>0.0</td>\n",
       "      <td>0.0</td>\n",
       "      <td>0.0</td>\n",
       "      <td>0.0</td>\n",
       "    </tr>\n",
       "  </tbody>\n",
       "</table>\n",
       "<p>5 rows × 35 columns</p>\n",
       "</div>"
      ],
      "text/plain": [
       "    0    1    2    3    4    5    6    7    8    9   ...   25   26   27   28  \\\n",
       "0  0.0  0.0  0.0  0.0  0.0  0.0  0.0  0.0  0.0  0.0  ...  0.0  0.0  0.0  1.0   \n",
       "1  0.0  0.0  0.0  0.0  0.0  0.0  0.0  0.0  0.0  0.0  ...  0.0  0.0  0.0  0.0   \n",
       "2  0.0  0.0  0.0  0.0  0.0  0.0  0.0  0.0  0.0  0.0  ...  0.0  0.0  0.0  3.0   \n",
       "3  0.0  0.0  0.0  0.0  0.0  0.0  0.0  0.0  0.0  0.0  ...  0.0  0.0  0.0  0.0   \n",
       "4  0.0  0.0  0.0  0.0  0.0  0.0  0.0  0.0  0.0  0.0  ...  0.0  0.0  0.0  0.0   \n",
       "\n",
       "    29   30   31   32   33   34  \n",
       "0  1.0  1.0  3.0  1.0  0.0  0.0  \n",
       "1  0.0  0.0  0.0  0.0  0.0  0.0  \n",
       "2  2.0  0.0  1.0  3.0  1.0  0.0  \n",
       "3  0.0  0.0  1.0  0.0  0.0  0.0  \n",
       "4  0.0  0.0  0.0  0.0  0.0  0.0  \n",
       "\n",
       "[5 rows x 35 columns]"
      ]
     },
     "execution_count": 18,
     "metadata": {},
     "output_type": "execute_result"
    }
   ],
   "source": [
    "df.head()"
   ]
  },
  {
   "cell_type": "code",
   "execution_count": 19,
   "metadata": {
    "id": "821oXky-3bmZ",
    "outputId": "f83ff84b-cc1c-49e9-b92e-38cdaef1dbd2"
   },
   "outputs": [
    {
     "data": {
      "text/plain": [
       "(214200, 35)"
      ]
     },
     "execution_count": 19,
     "metadata": {},
     "output_type": "execute_result"
    }
   ],
   "source": [
    "df.shape"
   ]
  },
  {
   "cell_type": "markdown",
   "metadata": {},
   "source": [
    "**Now we will scale the data. We must transpose the data to make the combinations as features because scaling scale every feature's values individually and we need the scaling to work based on combinations insted of the data.**"
   ]
  },
  {
   "cell_type": "code",
   "execution_count": 20,
   "metadata": {
    "id": "YEEEqM3iBqPh"
   },
   "outputs": [],
   "source": [
    "df = df.transpose()"
   ]
  },
  {
   "cell_type": "code",
   "execution_count": 21,
   "metadata": {
    "id": "a808jIjldn3Y"
   },
   "outputs": [],
   "source": [
    "from sklearn.preprocessing import MinMaxScaler\n",
    "ms=MinMaxScaler(feature_range=(-1,1))\n",
    "df=ms.fit_transform(df)"
   ]
  },
  {
   "cell_type": "markdown",
   "metadata": {},
   "source": [
    "**We transpose back to the original shape.**"
   ]
  },
  {
   "cell_type": "code",
   "execution_count": 22,
   "metadata": {
    "id": "hERkguPBvqLf"
   },
   "outputs": [],
   "source": [
    "df = df.transpose()"
   ]
  },
  {
   "cell_type": "markdown",
   "metadata": {},
   "source": [
    "# 4. **Training the model.**"
   ]
  },
  {
   "cell_type": "markdown",
   "metadata": {},
   "source": [
    "**Let's slice the training and validation data apart.**"
   ]
  },
  {
   "cell_type": "markdown",
   "metadata": {},
   "source": [
    "**We will validate on a subset of the data.**"
   ]
  },
  {
   "cell_type": "code",
   "execution_count": 23,
   "metadata": {
    "id": "WzCcS1ECr1VP"
   },
   "outputs": [],
   "source": [
    "X_train=df[:,0:33]\n",
    "y_train=df[:,33]\n",
    "X_valid=df[10000:20000,0:33]\n",
    "y_valid=df[10000:20000,33]\n",
    "X_train=X_train.reshape(214200,33,1)\n",
    "X_valid=X_valid.reshape(10000,33,1)"
   ]
  },
  {
   "cell_type": "code",
   "execution_count": 24,
   "metadata": {
    "id": "womQTg_AXPVz",
    "outputId": "9152b318-6d90-4416-bad9-63253f39d505"
   },
   "outputs": [
    {
     "data": {
      "text/plain": [
       "(10000, 33, 1)"
      ]
     },
     "execution_count": 24,
     "metadata": {},
     "output_type": "execute_result"
    }
   ],
   "source": [
    "X_valid.shape"
   ]
  },
  {
   "cell_type": "code",
   "execution_count": 25,
   "metadata": {
    "id": "DbGmMEwfVZKI",
    "outputId": "2f9f0edc-b13f-4622-e3c0-3055ef436865"
   },
   "outputs": [
    {
     "data": {
      "text/plain": [
       "(214200, 33, 1)"
      ]
     },
     "execution_count": 25,
     "metadata": {},
     "output_type": "execute_result"
    }
   ],
   "source": [
    "X_train.shape"
   ]
  },
  {
   "cell_type": "markdown",
   "metadata": {},
   "source": [
    "**Let's build the model.**"
   ]
  },
  {
   "cell_type": "code",
   "execution_count": 26,
   "metadata": {
    "id": "3rZZ0gqh9Dqe"
   },
   "outputs": [],
   "source": [
    "from tensorflow.keras.layers import Dense,Dropout,LSTM\n",
    "from tensorflow.keras.models import Sequential\n",
    "from tensorflow.keras.callbacks import EarlyStopping\n",
    "from tensorflow.keras.layers import Dropout"
   ]
  },
  {
   "cell_type": "code",
   "execution_count": 27,
   "metadata": {
    "id": "8xzJ4pF2uhUn"
   },
   "outputs": [],
   "source": [
    "es=EarlyStopping(monitor='val_loss',patience=5)"
   ]
  },
  {
   "cell_type": "code",
   "execution_count": 28,
   "metadata": {},
   "outputs": [],
   "source": [
    "import tensorflow as tf"
   ]
  },
  {
   "cell_type": "markdown",
   "metadata": {},
   "source": [
    "**We will pass each row individually. **"
   ]
  },
  {
   "cell_type": "code",
   "execution_count": 29,
   "metadata": {
    "id": "lbZiCx4iOLIX",
    "outputId": "9dd403c5-cf76-4b5c-a5ad-87629e8f9fe1"
   },
   "outputs": [],
   "source": [
    "model = Sequential()\n",
    "model.add(LSTM(33,input_shape = (33,1)))\n",
    "model.add(Dense(1))\n",
    "model.compile(loss='mean_squared_error', optimizer=tf.keras.optimizers.Adam())"
   ]
  },
  {
   "cell_type": "markdown",
   "metadata": {},
   "source": [
    "**Note : i use a notebook with gpu boosting.**"
   ]
  },
  {
   "cell_type": "code",
   "execution_count": 30,
   "metadata": {
    "id": "gWcQoA6fOLRX",
    "outputId": "6ee0f56a-4609-4af1-d3cc-13b8b0cfc307"
   },
   "outputs": [
    {
     "name": "stdout",
     "output_type": "stream",
     "text": [
      "Train on 214200 samples, validate on 10000 samples\n",
      "Epoch 1/1000\n",
      "214200/214200 [==============================] - 6s 29us/sample - loss: 0.2954 - val_loss: 0.2535\n",
      "Epoch 2/1000\n",
      "214200/214200 [==============================] - 1s 3us/sample - loss: 0.2457 - val_loss: 0.2517\n",
      "Epoch 3/1000\n",
      "214200/214200 [==============================] - 1s 3us/sample - loss: 0.2446 - val_loss: 0.2506\n",
      "Epoch 4/1000\n",
      "214200/214200 [==============================] - 1s 3us/sample - loss: 0.2438 - val_loss: 0.2499\n",
      "Epoch 5/1000\n",
      "214200/214200 [==============================] - 1s 3us/sample - loss: 0.2432 - val_loss: 0.2494\n",
      "Epoch 6/1000\n",
      "214200/214200 [==============================] - 1s 3us/sample - loss: 0.2428 - val_loss: 0.2490\n",
      "Epoch 7/1000\n",
      "214200/214200 [==============================] - 1s 3us/sample - loss: 0.2425 - val_loss: 0.2488\n",
      "Epoch 8/1000\n",
      "214200/214200 [==============================] - 1s 3us/sample - loss: 0.2423 - val_loss: 0.2487\n",
      "Epoch 9/1000\n",
      "214200/214200 [==============================] - 1s 3us/sample - loss: 0.2422 - val_loss: 0.2486\n",
      "Epoch 10/1000\n",
      "214200/214200 [==============================] - 1s 3us/sample - loss: 0.2421 - val_loss: 0.2486\n",
      "Epoch 11/1000\n",
      "214200/214200 [==============================] - 1s 3us/sample - loss: 0.2420 - val_loss: 0.2486\n",
      "Epoch 12/1000\n",
      "214200/214200 [==============================] - 1s 3us/sample - loss: 0.2419 - val_loss: 0.2486\n",
      "Epoch 13/1000\n",
      "214200/214200 [==============================] - 1s 3us/sample - loss: 0.2419 - val_loss: 0.2485\n",
      "Epoch 14/1000\n",
      "214200/214200 [==============================] - 1s 3us/sample - loss: 0.2418 - val_loss: 0.2485\n",
      "Epoch 15/1000\n",
      "214200/214200 [==============================] - 1s 3us/sample - loss: 0.2418 - val_loss: 0.2485\n",
      "Epoch 16/1000\n",
      "214200/214200 [==============================] - 1s 3us/sample - loss: 0.2418 - val_loss: 0.2484\n",
      "Epoch 17/1000\n",
      "214200/214200 [==============================] - 1s 3us/sample - loss: 0.2417 - val_loss: 0.2484\n",
      "Epoch 18/1000\n",
      "214200/214200 [==============================] - 1s 3us/sample - loss: 0.2417 - val_loss: 0.2484\n",
      "Epoch 19/1000\n",
      "214200/214200 [==============================] - 1s 3us/sample - loss: 0.2417 - val_loss: 0.2483\n",
      "Epoch 20/1000\n",
      "214200/214200 [==============================] - 1s 3us/sample - loss: 0.2416 - val_loss: 0.2483\n",
      "Epoch 21/1000\n",
      "214200/214200 [==============================] - 1s 3us/sample - loss: 0.2416 - val_loss: 0.2483\n",
      "Epoch 22/1000\n",
      "214200/214200 [==============================] - 1s 3us/sample - loss: 0.2416 - val_loss: 0.2482\n",
      "Epoch 23/1000\n",
      "214200/214200 [==============================] - 1s 3us/sample - loss: 0.2416 - val_loss: 0.2482\n",
      "Epoch 24/1000\n",
      "214200/214200 [==============================] - 1s 3us/sample - loss: 0.2415 - val_loss: 0.2482\n",
      "Epoch 25/1000\n",
      "214200/214200 [==============================] - 1s 3us/sample - loss: 0.2415 - val_loss: 0.2481\n",
      "Epoch 26/1000\n",
      "214200/214200 [==============================] - 1s 3us/sample - loss: 0.2415 - val_loss: 0.2481\n",
      "Epoch 27/1000\n",
      "214200/214200 [==============================] - 1s 3us/sample - loss: 0.2414 - val_loss: 0.2481\n",
      "Epoch 28/1000\n",
      "214200/214200 [==============================] - 1s 3us/sample - loss: 0.2414 - val_loss: 0.2480\n",
      "Epoch 29/1000\n",
      "214200/214200 [==============================] - 1s 3us/sample - loss: 0.2414 - val_loss: 0.2480\n",
      "Epoch 30/1000\n",
      "214200/214200 [==============================] - 1s 3us/sample - loss: 0.2413 - val_loss: 0.2479\n",
      "Epoch 31/1000\n",
      "214200/214200 [==============================] - 1s 3us/sample - loss: 0.2413 - val_loss: 0.2478\n",
      "Epoch 32/1000\n",
      "214200/214200 [==============================] - 1s 3us/sample - loss: 0.2412 - val_loss: 0.2478\n",
      "Epoch 33/1000\n",
      "214200/214200 [==============================] - 1s 3us/sample - loss: 0.2412 - val_loss: 0.2477\n",
      "Epoch 34/1000\n",
      "214200/214200 [==============================] - 1s 3us/sample - loss: 0.2411 - val_loss: 0.2477\n",
      "Epoch 35/1000\n",
      "214200/214200 [==============================] - 1s 3us/sample - loss: 0.2411 - val_loss: 0.2476\n",
      "Epoch 36/1000\n",
      "214200/214200 [==============================] - 1s 3us/sample - loss: 0.2410 - val_loss: 0.2475\n",
      "Epoch 37/1000\n",
      "214200/214200 [==============================] - 1s 3us/sample - loss: 0.2410 - val_loss: 0.2474\n",
      "Epoch 38/1000\n",
      "214200/214200 [==============================] - 1s 3us/sample - loss: 0.2409 - val_loss: 0.2474\n",
      "Epoch 39/1000\n",
      "214200/214200 [==============================] - 1s 3us/sample - loss: 0.2409 - val_loss: 0.2473\n",
      "Epoch 40/1000\n",
      "214200/214200 [==============================] - 1s 3us/sample - loss: 0.2408 - val_loss: 0.2472\n",
      "Epoch 41/1000\n",
      "214200/214200 [==============================] - 1s 3us/sample - loss: 0.2407 - val_loss: 0.2471\n",
      "Epoch 42/1000\n",
      "214200/214200 [==============================] - 1s 3us/sample - loss: 0.2407 - val_loss: 0.2470\n",
      "Epoch 43/1000\n",
      "214200/214200 [==============================] - 1s 3us/sample - loss: 0.2406 - val_loss: 0.2469\n",
      "Epoch 44/1000\n",
      "214200/214200 [==============================] - 1s 3us/sample - loss: 0.2406 - val_loss: 0.2469\n",
      "Epoch 45/1000\n",
      "214200/214200 [==============================] - 1s 3us/sample - loss: 0.2405 - val_loss: 0.2468\n",
      "Epoch 46/1000\n",
      "214200/214200 [==============================] - 1s 3us/sample - loss: 0.2405 - val_loss: 0.2467\n",
      "Epoch 47/1000\n",
      "214200/214200 [==============================] - 1s 3us/sample - loss: 0.2404 - val_loss: 0.2466\n",
      "Epoch 48/1000\n",
      "214200/214200 [==============================] - 1s 3us/sample - loss: 0.2404 - val_loss: 0.2466\n",
      "Epoch 49/1000\n",
      "214200/214200 [==============================] - 1s 3us/sample - loss: 0.2403 - val_loss: 0.2465\n",
      "Epoch 50/1000\n",
      "214200/214200 [==============================] - 1s 3us/sample - loss: 0.2402 - val_loss: 0.2464\n",
      "Epoch 51/1000\n",
      "214200/214200 [==============================] - 1s 3us/sample - loss: 0.2402 - val_loss: 0.2464\n",
      "Epoch 52/1000\n",
      "214200/214200 [==============================] - 1s 3us/sample - loss: 0.2401 - val_loss: 0.2463\n",
      "Epoch 53/1000\n",
      "214200/214200 [==============================] - 1s 3us/sample - loss: 0.2400 - val_loss: 0.2462\n",
      "Epoch 54/1000\n",
      "214200/214200 [==============================] - 1s 3us/sample - loss: 0.2400 - val_loss: 0.2462\n",
      "Epoch 55/1000\n",
      "214200/214200 [==============================] - 1s 3us/sample - loss: 0.2399 - val_loss: 0.2461\n",
      "Epoch 56/1000\n",
      "214200/214200 [==============================] - 1s 3us/sample - loss: 0.2399 - val_loss: 0.2461\n",
      "Epoch 57/1000\n",
      "214200/214200 [==============================] - 1s 3us/sample - loss: 0.2398 - val_loss: 0.2460\n",
      "Epoch 58/1000\n",
      "214200/214200 [==============================] - 1s 3us/sample - loss: 0.2397 - val_loss: 0.2459\n",
      "Epoch 59/1000\n",
      "214200/214200 [==============================] - 1s 3us/sample - loss: 0.2396 - val_loss: 0.2459\n",
      "Epoch 60/1000\n",
      "214200/214200 [==============================] - 1s 3us/sample - loss: 0.2396 - val_loss: 0.2458\n",
      "Epoch 61/1000\n",
      "214200/214200 [==============================] - 1s 3us/sample - loss: 0.2395 - val_loss: 0.2458\n",
      "Epoch 62/1000\n",
      "214200/214200 [==============================] - 1s 3us/sample - loss: 0.2394 - val_loss: 0.2457\n",
      "Epoch 63/1000\n",
      "214200/214200 [==============================] - 1s 3us/sample - loss: 0.2394 - val_loss: 0.2457\n",
      "Epoch 64/1000\n",
      "214200/214200 [==============================] - 1s 3us/sample - loss: 0.2393 - val_loss: 0.2456\n",
      "Epoch 65/1000\n",
      "214200/214200 [==============================] - 1s 3us/sample - loss: 0.2392 - val_loss: 0.2456\n",
      "Epoch 66/1000\n",
      "214200/214200 [==============================] - 1s 3us/sample - loss: 0.2392 - val_loss: 0.2455\n",
      "Epoch 67/1000\n",
      "214200/214200 [==============================] - 1s 3us/sample - loss: 0.2391 - val_loss: 0.2454\n",
      "Epoch 68/1000\n",
      "214200/214200 [==============================] - 1s 3us/sample - loss: 0.2390 - val_loss: 0.2454\n",
      "Epoch 69/1000\n",
      "214200/214200 [==============================] - 1s 3us/sample - loss: 0.2389 - val_loss: 0.2453\n",
      "Epoch 70/1000\n",
      "214200/214200 [==============================] - 1s 3us/sample - loss: 0.2388 - val_loss: 0.2452\n",
      "Epoch 71/1000\n",
      "214200/214200 [==============================] - 1s 3us/sample - loss: 0.2387 - val_loss: 0.2451\n",
      "Epoch 72/1000\n",
      "214200/214200 [==============================] - 1s 3us/sample - loss: 0.2387 - val_loss: 0.2451\n",
      "Epoch 73/1000\n",
      "214200/214200 [==============================] - 1s 3us/sample - loss: 0.2386 - val_loss: 0.2450\n",
      "Epoch 74/1000\n",
      "214200/214200 [==============================] - 1s 3us/sample - loss: 0.2385 - val_loss: 0.2449\n",
      "Epoch 75/1000\n",
      "214200/214200 [==============================] - 1s 3us/sample - loss: 0.2384 - val_loss: 0.2449\n",
      "Epoch 76/1000\n",
      "214200/214200 [==============================] - 1s 3us/sample - loss: 0.2383 - val_loss: 0.2448\n",
      "Epoch 77/1000\n",
      "214200/214200 [==============================] - 1s 3us/sample - loss: 0.2383 - val_loss: 0.2448\n",
      "Epoch 78/1000\n",
      "214200/214200 [==============================] - 1s 3us/sample - loss: 0.2382 - val_loss: 0.2447\n",
      "Epoch 79/1000\n",
      "214200/214200 [==============================] - 1s 3us/sample - loss: 0.2381 - val_loss: 0.2447\n",
      "Epoch 80/1000\n",
      "214200/214200 [==============================] - 1s 3us/sample - loss: 0.2381 - val_loss: 0.2446\n",
      "Epoch 81/1000\n",
      "214200/214200 [==============================] - 1s 3us/sample - loss: 0.2380 - val_loss: 0.2446\n",
      "Epoch 82/1000\n",
      "214200/214200 [==============================] - 1s 3us/sample - loss: 0.2379 - val_loss: 0.2445\n",
      "Epoch 83/1000\n",
      "214200/214200 [==============================] - 1s 3us/sample - loss: 0.2379 - val_loss: 0.2446\n",
      "Epoch 84/1000\n",
      "214200/214200 [==============================] - 1s 3us/sample - loss: 0.2377 - val_loss: 0.2444\n",
      "Epoch 85/1000\n",
      "214200/214200 [==============================] - 1s 3us/sample - loss: 0.2379 - val_loss: 0.2450\n",
      "Epoch 86/1000\n",
      "214200/214200 [==============================] - 1s 3us/sample - loss: 0.2376 - val_loss: 0.2443\n",
      "Epoch 87/1000\n",
      "214200/214200 [==============================] - 1s 3us/sample - loss: 0.2376 - val_loss: 0.2444\n",
      "Epoch 88/1000\n",
      "214200/214200 [==============================] - 1s 3us/sample - loss: 0.2374 - val_loss: 0.2441\n",
      "Epoch 89/1000\n",
      "214200/214200 [==============================] - 1s 3us/sample - loss: 0.2374 - val_loss: 0.2442\n",
      "Epoch 90/1000\n",
      "214200/214200 [==============================] - 1s 3us/sample - loss: 0.2372 - val_loss: 0.2439\n",
      "Epoch 91/1000\n",
      "214200/214200 [==============================] - 1s 3us/sample - loss: 0.2372 - val_loss: 0.2441\n",
      "Epoch 92/1000\n",
      "214200/214200 [==============================] - 1s 3us/sample - loss: 0.2369 - val_loss: 0.2437\n",
      "Epoch 93/1000\n",
      "214200/214200 [==============================] - 1s 3us/sample - loss: 0.2369 - val_loss: 0.2438\n",
      "Epoch 94/1000\n",
      "214200/214200 [==============================] - 1s 3us/sample - loss: 0.2366 - val_loss: 0.2434\n",
      "Epoch 95/1000\n",
      "214200/214200 [==============================] - 1s 3us/sample - loss: 0.2366 - val_loss: 0.2436\n",
      "Epoch 96/1000\n",
      "214200/214200 [==============================] - 1s 3us/sample - loss: 0.2362 - val_loss: 0.2431\n",
      "Epoch 97/1000\n",
      "214200/214200 [==============================] - 1s 3us/sample - loss: 0.2363 - val_loss: 0.2434\n",
      "Epoch 98/1000\n",
      "214200/214200 [==============================] - 1s 3us/sample - loss: 0.2357 - val_loss: 0.2427\n",
      "Epoch 99/1000\n",
      "214200/214200 [==============================] - 1s 3us/sample - loss: 0.2357 - val_loss: 0.2430\n",
      "Epoch 100/1000\n",
      "214200/214200 [==============================] - 1s 3us/sample - loss: 0.2351 - val_loss: 0.2421\n",
      "Epoch 101/1000\n",
      "214200/214200 [==============================] - 1s 3us/sample - loss: 0.2348 - val_loss: 0.2422\n",
      "Epoch 102/1000\n",
      "214200/214200 [==============================] - 1s 3us/sample - loss: 0.2345 - val_loss: 0.2418\n",
      "Epoch 103/1000\n",
      "214200/214200 [==============================] - 1s 3us/sample - loss: 0.2339 - val_loss: 0.2415\n",
      "Epoch 104/1000\n",
      "214200/214200 [==============================] - 1s 3us/sample - loss: 0.2333 - val_loss: 0.2408\n",
      "Epoch 105/1000\n",
      "214200/214200 [==============================] - 1s 3us/sample - loss: 0.2324 - val_loss: 0.2403\n",
      "Epoch 106/1000\n",
      "214200/214200 [==============================] - 1s 3us/sample - loss: 0.2342 - val_loss: 0.2426\n",
      "Epoch 107/1000\n",
      "214200/214200 [==============================] - 1s 3us/sample - loss: 0.2350 - val_loss: 0.2424\n",
      "Epoch 108/1000\n",
      "214200/214200 [==============================] - 1s 3us/sample - loss: 0.2333 - val_loss: 0.2412\n",
      "Epoch 109/1000\n",
      "214200/214200 [==============================] - 1s 3us/sample - loss: 0.2322 - val_loss: 0.2403\n",
      "Epoch 110/1000\n",
      "214200/214200 [==============================] - 1s 3us/sample - loss: 0.2312 - val_loss: 0.2395\n",
      "Epoch 111/1000\n",
      "214200/214200 [==============================] - 1s 3us/sample - loss: 0.2306 - val_loss: 0.2400\n",
      "Epoch 112/1000\n",
      "214200/214200 [==============================] - 1s 3us/sample - loss: 0.2301 - val_loss: 0.2390\n",
      "Epoch 113/1000\n",
      "214200/214200 [==============================] - 1s 3us/sample - loss: 0.2295 - val_loss: 0.2387\n",
      "Epoch 114/1000\n",
      "214200/214200 [==============================] - 1s 3us/sample - loss: 0.2292 - val_loss: 0.2385\n",
      "Epoch 115/1000\n",
      "214200/214200 [==============================] - 1s 3us/sample - loss: 0.2291 - val_loss: 0.2385\n",
      "Epoch 116/1000\n",
      "214200/214200 [==============================] - 1s 3us/sample - loss: 0.2287 - val_loss: 0.2380\n",
      "Epoch 117/1000\n",
      "214200/214200 [==============================] - 1s 3us/sample - loss: 0.2284 - val_loss: 0.2375\n",
      "Epoch 118/1000\n",
      "214200/214200 [==============================] - 1s 3us/sample - loss: 0.2403 - val_loss: 0.2453\n",
      "Epoch 119/1000\n",
      "214200/214200 [==============================] - 1s 3us/sample - loss: 0.2369 - val_loss: 0.2450\n",
      "Epoch 120/1000\n",
      "214200/214200 [==============================] - 1s 3us/sample - loss: 0.2362 - val_loss: 0.2446\n",
      "Epoch 121/1000\n",
      "214200/214200 [==============================] - 1s 3us/sample - loss: 0.2359 - val_loss: 0.2444\n",
      "Epoch 122/1000\n",
      "214200/214200 [==============================] - 1s 3us/sample - loss: 0.2357 - val_loss: 0.2442\n"
     ]
    },
    {
     "data": {
      "text/plain": [
       "<tensorflow.python.keras.callbacks.History at 0x7f48e068cf98>"
      ]
     },
     "execution_count": 30,
     "metadata": {},
     "output_type": "execute_result"
    }
   ],
   "source": [
    "model.fit(X_train,y_train,epochs=1000,batch_size=3570,verbose=1,shuffle=False,callbacks=[es],validation_data=(X_valid,y_valid))"
   ]
  },
  {
   "cell_type": "code",
   "execution_count": 31,
   "metadata": {
    "id": "39OlDZ0ROLZx",
    "outputId": "be3b72d1-1c08-4c53-98c8-7c223b9ef2f2"
   },
   "outputs": [
    {
     "data": {
      "text/plain": [
       "<matplotlib.axes._subplots.AxesSubplot at 0x7f48e0264fd0>"
      ]
     },
     "execution_count": 31,
     "metadata": {},
     "output_type": "execute_result"
    },
    {
     "data": {
      "image/png": "[encoded data removed]",
      "text/plain": [
       "<Figure size 432x288 with 1 Axes>"
      ]
     },
     "metadata": {
      "needs_background": "light"
     },
     "output_type": "display_data"
    }
   ],
   "source": [
    "pd.DataFrame(model.history.history).plot()"
   ]
  },
  {
   "cell_type": "markdown",
   "metadata": {},
   "source": [
    "**Not the best looking plot but it will do the job.**"
   ]
  },
  {
   "cell_type": "markdown",
   "metadata": {},
   "source": [
    "5. **Making the predictions.**"
   ]
  },
  {
   "cell_type": "code",
   "execution_count": 32,
   "metadata": {
    "id": "GF1yy1ojOLiW"
   },
   "outputs": [],
   "source": [
    "X_test=df[:,1:34]"
   ]
  },
  {
   "cell_type": "code",
   "execution_count": 33,
   "metadata": {
    "id": "tqzU60TTOLpP",
    "outputId": "395cb046-e22a-445d-8eef-2264138cafd5"
   },
   "outputs": [
    {
     "data": {
      "text/plain": [
       "(214200, 33)"
      ]
     },
     "execution_count": 33,
     "metadata": {},
     "output_type": "execute_result"
    }
   ],
   "source": [
    "X_test.shape"
   ]
  },
  {
   "cell_type": "code",
   "execution_count": 34,
   "metadata": {
    "id": "lWF9graqX1E6",
    "outputId": "f2e248c0-563e-461e-e0c0-f5708cafd3f5"
   },
   "outputs": [
    {
     "data": {
      "text/plain": [
       "dtype('float64')"
      ]
     },
     "execution_count": 34,
     "metadata": {},
     "output_type": "execute_result"
    }
   ],
   "source": [
    "X_test.dtype"
   ]
  },
  {
   "cell_type": "code",
   "execution_count": 35,
   "metadata": {
    "id": "_KhOUumFOLdI"
   },
   "outputs": [],
   "source": [
    "predictions=model.predict(X_test.reshape(214200,33,1))"
   ]
  },
  {
   "cell_type": "code",
   "execution_count": 36,
   "metadata": {
    "id": "C0S17ooXEW9K",
    "outputId": "33ee71b3-4410-4243-c271-b2a21692ae0f"
   },
   "outputs": [
    {
     "data": {
      "text/plain": [
       "(214200, 1)"
      ]
     },
     "execution_count": 36,
     "metadata": {},
     "output_type": "execute_result"
    }
   ],
   "source": [
    "predictions.shape"
   ]
  },
  {
   "cell_type": "code",
   "execution_count": 37,
   "metadata": {
    "id": "JLDWgO2AxFyP",
    "outputId": "964484a6-761b-48b0-9d4f-3f6f540a25b2"
   },
   "outputs": [
    {
     "data": {
      "text/plain": [
       "array([[-0.68878716],\n",
       "       [-0.9294877 ],\n",
       "       [-0.5137304 ],\n",
       "       ...,\n",
       "       [-0.93469375],\n",
       "       [-0.9294877 ],\n",
       "       [-0.95401067]], dtype=float32)"
      ]
     },
     "execution_count": 37,
     "metadata": {},
     "output_type": "execute_result"
    }
   ],
   "source": [
    "predictions"
   ]
  },
  {
   "cell_type": "code",
   "execution_count": 38,
   "metadata": {
    "id": "MTLo3AeXYEqM"
   },
   "outputs": [],
   "source": [
    "predictions = predictions.astype('float64')"
   ]
  },
  {
   "cell_type": "code",
   "execution_count": 39,
   "metadata": {
    "id": "2p1a9ch9P7-I",
    "outputId": "3db6ff1d-c16e-4d3b-8b26-991b812f3aae"
   },
   "outputs": [
    {
     "data": {
      "text/plain": [
       "(214200, 35)"
      ]
     },
     "execution_count": 39,
     "metadata": {},
     "output_type": "execute_result"
    }
   ],
   "source": [
    "df.shape"
   ]
  },
  {
   "cell_type": "code",
   "execution_count": 40,
   "metadata": {
    "id": "24EYtMBCwTNu"
   },
   "outputs": [],
   "source": [
    "full = np.concatenate((df[:,:-1],predictions),axis=1)"
   ]
  },
  {
   "cell_type": "code",
   "execution_count": 41,
   "metadata": {
    "id": "G4vZac5VwxYH",
    "outputId": "9f4812fd-3116-4e85-8240-0f148deda84a"
   },
   "outputs": [
    {
     "data": {
      "text/plain": [
       "(214200, 35)"
      ]
     },
     "execution_count": 41,
     "metadata": {},
     "output_type": "execute_result"
    }
   ],
   "source": [
    "full.shape"
   ]
  },
  {
   "cell_type": "markdown",
   "metadata": {},
   "source": [
    "**Let's Inverse-transform the data to what would it have been without scaling.**"
   ]
  },
  {
   "cell_type": "code",
   "execution_count": 42,
   "metadata": {
    "id": "o2mQSK6Iw6Eg"
   },
   "outputs": [],
   "source": [
    "full = ms.inverse_transform(full.transpose())"
   ]
  },
  {
   "cell_type": "code",
   "execution_count": 43,
   "metadata": {
    "id": "qw0UkpLO1_C9"
   },
   "outputs": [],
   "source": [
    "full = full.transpose()"
   ]
  },
  {
   "cell_type": "code",
   "execution_count": 44,
   "metadata": {
    "id": "LSSDN5uw2Gai"
   },
   "outputs": [],
   "source": [
    "predictions = full[:,-1:]"
   ]
  },
  {
   "cell_type": "code",
   "execution_count": 45,
   "metadata": {
    "id": "l4nbR8iNxi0T",
    "outputId": "3d16436e-5de4-4021-bee0-2d2ca15d541d"
   },
   "outputs": [
    {
     "data": {
      "text/plain": [
       "array([[0.46681926],\n",
       "       [0.03525615],\n",
       "       [0.72940439],\n",
       "       ...,\n",
       "       [0.06530625],\n",
       "       [0.03525615],\n",
       "       [0.068984  ]])"
      ]
     },
     "execution_count": 45,
     "metadata": {},
     "output_type": "execute_result"
    }
   ],
   "source": [
    "predictions"
   ]
  },
  {
   "cell_type": "markdown",
   "metadata": {},
   "source": [
    "**The competition asked us in the description to clip the values between 0 and 20.**"
   ]
  },
  {
   "cell_type": "code",
   "execution_count": 46,
   "metadata": {
    "id": "zR5OfTJ9sGW9"
   },
   "outputs": [],
   "source": [
    "predictions = predictions.clip(0,20)"
   ]
  },
  {
   "cell_type": "code",
   "execution_count": 47,
   "metadata": {
    "id": "9gJ9BBVHGH9A"
   },
   "outputs": [],
   "source": [
    "preds=pd.DataFrame(predictions)"
   ]
  },
  {
   "cell_type": "code",
   "execution_count": 48,
   "metadata": {
    "id": "byk6_snCFb--"
   },
   "outputs": [],
   "source": [
    "submition=testd.drop(['shop_id','item_id'],axis=1)"
   ]
  },
  {
   "cell_type": "code",
   "execution_count": 49,
   "metadata": {
    "id": "m--xAb_sEzU_"
   },
   "outputs": [],
   "source": [
    "sub=pd.concat([submition,preds],axis=1)"
   ]
  },
  {
   "cell_type": "code",
   "execution_count": 50,
   "metadata": {
    "id": "e_lytfqxE05l",
    "outputId": "25f72aa6-9428-400a-96e2-de534e05651d"
   },
   "outputs": [
    {
     "data": {
      "text/html": [
       "<div>\n",
       "<style scoped>\n",
       "    .dataframe tbody tr th:only-of-type {\n",
       "        vertical-align: middle;\n",
       "    }\n",
       "\n",
       "    .dataframe tbody tr th {\n",
       "        vertical-align: top;\n",
       "    }\n",
       "\n",
       "    .dataframe thead th {\n",
       "        text-align: right;\n",
       "    }\n",
       "</style>\n",
       "<table border=\"1\" class=\"dataframe\">\n",
       "  <thead>\n",
       "    <tr style=\"text-align: right;\">\n",
       "      <th></th>\n",
       "      <th>ID</th>\n",
       "      <th>0</th>\n",
       "    </tr>\n",
       "  </thead>\n",
       "  <tbody>\n",
       "    <tr>\n",
       "      <th>0</th>\n",
       "      <td>0</td>\n",
       "      <td>0.466819</td>\n",
       "    </tr>\n",
       "    <tr>\n",
       "      <th>1</th>\n",
       "      <td>1</td>\n",
       "      <td>0.035256</td>\n",
       "    </tr>\n",
       "    <tr>\n",
       "      <th>2</th>\n",
       "      <td>2</td>\n",
       "      <td>0.729404</td>\n",
       "    </tr>\n",
       "    <tr>\n",
       "      <th>3</th>\n",
       "      <td>3</td>\n",
       "      <td>0.116925</td>\n",
       "    </tr>\n",
       "    <tr>\n",
       "      <th>4</th>\n",
       "      <td>4</td>\n",
       "      <td>0.035256</td>\n",
       "    </tr>\n",
       "    <tr>\n",
       "      <th>...</th>\n",
       "      <td>...</td>\n",
       "      <td>...</td>\n",
       "    </tr>\n",
       "    <tr>\n",
       "      <th>214195</th>\n",
       "      <td>214195</td>\n",
       "      <td>0.298814</td>\n",
       "    </tr>\n",
       "    <tr>\n",
       "      <th>214196</th>\n",
       "      <td>214196</td>\n",
       "      <td>0.035256</td>\n",
       "    </tr>\n",
       "    <tr>\n",
       "      <th>214197</th>\n",
       "      <td>214197</td>\n",
       "      <td>0.065306</td>\n",
       "    </tr>\n",
       "    <tr>\n",
       "      <th>214198</th>\n",
       "      <td>214198</td>\n",
       "      <td>0.035256</td>\n",
       "    </tr>\n",
       "    <tr>\n",
       "      <th>214199</th>\n",
       "      <td>214199</td>\n",
       "      <td>0.068984</td>\n",
       "    </tr>\n",
       "  </tbody>\n",
       "</table>\n",
       "<p>214200 rows × 2 columns</p>\n",
       "</div>"
      ],
      "text/plain": [
       "            ID         0\n",
       "0            0  0.466819\n",
       "1            1  0.035256\n",
       "2            2  0.729404\n",
       "3            3  0.116925\n",
       "4            4  0.035256\n",
       "...        ...       ...\n",
       "214195  214195  0.298814\n",
       "214196  214196  0.035256\n",
       "214197  214197  0.065306\n",
       "214198  214198  0.035256\n",
       "214199  214199  0.068984\n",
       "\n",
       "[214200 rows x 2 columns]"
      ]
     },
     "execution_count": 50,
     "metadata": {},
     "output_type": "execute_result"
    }
   ],
   "source": [
    "sub"
   ]
  },
  {
   "cell_type": "code",
   "execution_count": 51,
   "metadata": {
    "id": "MzLFz-UVGpQQ"
   },
   "outputs": [],
   "source": [
    "sub.columns=['ID','item_cnt_month']"
   ]
  },
  {
   "cell_type": "code",
   "execution_count": 52,
   "metadata": {
    "id": "tfzROuAhG8r4"
   },
   "outputs": [],
   "source": [
    "sub.to_csv('submition.csv',index=False)"
   ]
  },
  {
   "cell_type": "code",
   "execution_count": 53,
   "metadata": {
    "id": "DVaIXS40HV38",
    "outputId": "dd821a1a-0bcd-4a88-b8f1-7b10a401e97d"
   },
   "outputs": [
    {
     "data": {
      "text/html": [
       "<div>\n",
       "<style scoped>\n",
       "    .dataframe tbody tr th:only-of-type {\n",
       "        vertical-align: middle;\n",
       "    }\n",
       "\n",
       "    .dataframe tbody tr th {\n",
       "        vertical-align: top;\n",
       "    }\n",
       "\n",
       "    .dataframe thead th {\n",
       "        text-align: right;\n",
       "    }\n",
       "</style>\n",
       "<table border=\"1\" class=\"dataframe\">\n",
       "  <thead>\n",
       "    <tr style=\"text-align: right;\">\n",
       "      <th></th>\n",
       "      <th>ID</th>\n",
       "      <th>item_cnt_month</th>\n",
       "    </tr>\n",
       "  </thead>\n",
       "  <tbody>\n",
       "    <tr>\n",
       "      <th>count</th>\n",
       "      <td>214200.000000</td>\n",
       "      <td>214200.000000</td>\n",
       "    </tr>\n",
       "    <tr>\n",
       "      <th>mean</th>\n",
       "      <td>107099.500000</td>\n",
       "      <td>0.201857</td>\n",
       "    </tr>\n",
       "    <tr>\n",
       "      <th>std</th>\n",
       "      <td>61834.358168</td>\n",
       "      <td>0.686545</td>\n",
       "    </tr>\n",
       "    <tr>\n",
       "      <th>min</th>\n",
       "      <td>0.000000</td>\n",
       "      <td>0.000000</td>\n",
       "    </tr>\n",
       "    <tr>\n",
       "      <th>25%</th>\n",
       "      <td>53549.750000</td>\n",
       "      <td>0.035256</td>\n",
       "    </tr>\n",
       "    <tr>\n",
       "      <th>50%</th>\n",
       "      <td>107099.500000</td>\n",
       "      <td>0.035256</td>\n",
       "    </tr>\n",
       "    <tr>\n",
       "      <th>75%</th>\n",
       "      <td>160649.250000</td>\n",
       "      <td>0.148014</td>\n",
       "    </tr>\n",
       "    <tr>\n",
       "      <th>max</th>\n",
       "      <td>214199.000000</td>\n",
       "      <td>20.000000</td>\n",
       "    </tr>\n",
       "  </tbody>\n",
       "</table>\n",
       "</div>"
      ],
      "text/plain": [
       "                  ID  item_cnt_month\n",
       "count  214200.000000   214200.000000\n",
       "mean   107099.500000        0.201857\n",
       "std     61834.358168        0.686545\n",
       "min         0.000000        0.000000\n",
       "25%     53549.750000        0.035256\n",
       "50%    107099.500000        0.035256\n",
       "75%    160649.250000        0.148014\n",
       "max    214199.000000       20.000000"
      ]
     },
     "execution_count": 53,
     "metadata": {},
     "output_type": "execute_result"
    }
   ],
   "source": [
    "sub.describe()"
   ]
  },
  {
   "cell_type": "markdown",
   "metadata": {},
   "source": [
    "**The best i got was 1.03 in the competition.**"
   ]
  },
  {
   "cell_type": "code",
   "execution_count": 0,
   "metadata": {
    "id": "aJCLxxfYsY0j"
   },
   "outputs": [],
   "source": []
  }
 ],
 "metadata": {
  "accelerator": "TPU",
  "colab": {
   "collapsed_sections": [],
   "machine_shape": "hm",
   "name": "Kaggle predict future sales.ipynb",
   "provenance": []
  },
  "kernelspec": {
   "display_name": "Python 3",
   "name": "python3"
  },
  "language_info": {
   "codemirror_mode": {
    "name": "ipython",
    "version": 3
   },
   "file_extension": ".py",
   "mimetype": "text/x-python",
   "name": "python",
   "nbconvert_exporter": "python",
   "pygments_lexer": "ipython3",
   "version": "3.6.6"
  }
 },
 "nbformat": 4,
 "nbformat_minor": 4
}
