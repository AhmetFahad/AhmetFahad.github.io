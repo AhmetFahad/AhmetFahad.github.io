{
  "nbformat": 4,
  "nbformat_minor": 0,
  "metadata": {
    "colab": {
      "name": "Classifying images of lungs.ipynb",
      "provenance": [],
      "collapsed_sections": [],
      "machine_shape": "hm"
    },
    "kernelspec": {
      "name": "python3",
      "display_name": "Python 3"
    },
    "accelerator": "TPU"
  },
  "cells": [
    {
      "cell_type": "markdown",
      "metadata": {
        "id": "iOPU-INTicvp",
        "colab_type": "text"
      },
      "source": [
        "**In this notebook we try to classify x-ray images of lungs to check if the patient has pneumonia or not.**\n",
        "\n",
        "**[The dataset](https://www.kaggle.com/paultimothymooney/chest-xray-pneumonia)is organized into 3 folders (train, test, val) and contains subfolders for each image category (Pneumonia/Normal). There are 5,863 X-Ray images (JPEG) and 2 categories (Pneumonia/Normal).**\n",
        "\n",
        "**Chest X-ray images (anterior-posterior) were selected from retrospective cohorts of pediatric patients of one to five years old from Guangzhou Women and Children’s Medical Center, Guangzhou. All chest X-ray imaging was performed as part of patients’ routine clinical care.**\n",
        "\n",
        "**For the analysis of chest x-ray images, all chest radiographs were initially screened for quality control by removing all low quality or unreadable scans. The diagnoses for the images were then graded by two expert physicians before being cleared for training the AI system. In order to account for any grading errors, the evaluation set was also checked by a third expert.**"
      ]
    },
    {
      "cell_type": "markdown",
      "metadata": {
        "id": "skKU5lGMkAwX",
        "colab_type": "text"
      },
      "source": [
        "#1.   Importing libraries\n",
        "\n",
        "I use GoogleColab with TPU acceleration and before we start we should select tensorflow v2.1.\n"
      ]
    },
    {
      "cell_type": "code",
      "metadata": {
        "id": "kcWDb655hcT7",
        "colab_type": "code",
        "colab": {}
      },
      "source": [
        "%tensorflow_version 2.x\n",
        "\n",
        "import os\n",
        "import pandas as pd\n",
        "import numpy as np\n",
        "import seaborn as sns\n",
        "import matplotlib.pyplot as plt\n",
        "from skimage import io\n",
        "%matplotlib inline"
      ],
      "execution_count": 0,
      "outputs": []
    },
    {
      "cell_type": "markdown",
      "metadata": {
        "id": "XPLZ-JzYlV9Z",
        "colab_type": "text"
      },
      "source": [
        "#2.   Importing and exploring the dataset"
      ]
    },
    {
      "cell_type": "markdown",
      "metadata": {
        "id": "1gy_yVLJkgBL",
        "colab_type": "text"
      },
      "source": [
        "I uploaded the data into my googledrive. So we should mount gdrive to access the files."
      ]
    },
    {
      "cell_type": "code",
      "metadata": {
        "id": "DgwoH21jkyta",
        "colab_type": "code",
        "colab": {}
      },
      "source": [
        "from google.colab import drive\n",
        "drive.mount('/gdrive')"
      ],
      "execution_count": 0,
      "outputs": []
    },
    {
      "cell_type": "code",
      "metadata": {
        "id": "racZDCDwkyrn",
        "colab_type": "code",
        "colab": {}
      },
      "source": [
        "with open('/gdrive/My Drive/foo.txt', 'w') as f:\n",
        "  f.write('Hello Google Drive!')\n",
        "!cat '/gdrive/My Drive/foo.txt'"
      ],
      "execution_count": 0,
      "outputs": []
    },
    {
      "cell_type": "markdown",
      "metadata": {
        "id": "8vEXIVtIlDJP",
        "colab_type": "text"
      },
      "source": [
        "The following command unzips the file."
      ]
    },
    {
      "cell_type": "code",
      "metadata": {
        "id": "qcnWrTz_hhPc",
        "colab_type": "code",
        "outputId": "cd225221-2027-4d75-f32e-ab5d3e2d83d0",
        "colab": {
          "base_uri": "https://localhost:8080/",
          "height": 52
        }
      },
      "source": [
        "!unzip '/content/drive/My Drive/kaggle data/lungs/chest-xray-pneumonia.zip' "
      ],
      "execution_count": 0,
      "outputs": [
        {
          "output_type": "stream",
          "text": [
            "Archive:  /content/drive/My Drive/kaggle data/lungs/chest-xray-pneumonia.zip\n",
            "replace chest_xray/__MACOSX/._chest_xray? [y]es, [n]o, [A]ll, [N]one, [r]ename: N\n"
          ],
          "name": "stdout"
        }
      ]
    },
    {
      "cell_type": "markdown",
      "metadata": {
        "id": "T-qcinjMlJ-v",
        "colab_type": "text"
      },
      "source": [
        "Let's check the data directory."
      ]
    },
    {
      "cell_type": "code",
      "metadata": {
        "id": "1TMbtwRHhzuo",
        "colab_type": "code",
        "colab": {}
      },
      "source": [
        "my_data_dir = '/content/chest_xray'"
      ],
      "execution_count": 0,
      "outputs": []
    },
    {
      "cell_type": "code",
      "metadata": {
        "id": "bgC49CJpilgK",
        "colab_type": "code",
        "outputId": "267b07e2-53b7-4c55-edf6-5cdfadee0059",
        "colab": {
          "base_uri": "https://localhost:8080/",
          "height": 34
        }
      },
      "source": [
        "os.listdir(my_data_dir) "
      ],
      "execution_count": 0,
      "outputs": [
        {
          "output_type": "execute_result",
          "data": {
            "text/plain": [
              "['train', '__MACOSX', 'chest_xray', 'test', 'val']"
            ]
          },
          "metadata": {
            "tags": []
          },
          "execution_count": 243
        }
      ]
    },
    {
      "cell_type": "code",
      "metadata": {
        "id": "s-r25dWeinmY",
        "colab_type": "code",
        "colab": {}
      },
      "source": [
        "test_path = my_data_dir+'/test/'\n",
        "train_path = my_data_dir+'/train/'\n",
        "val_path = my_data_dir+'/val/'"
      ],
      "execution_count": 0,
      "outputs": []
    },
    {
      "cell_type": "code",
      "metadata": {
        "id": "MXtmP-Wui0g4",
        "colab_type": "code",
        "outputId": "b22be292-cd6f-4624-8357-468be165ada0",
        "colab": {
          "base_uri": "https://localhost:8080/",
          "height": 34
        }
      },
      "source": [
        "os.listdir(test_path)"
      ],
      "execution_count": 0,
      "outputs": [
        {
          "output_type": "execute_result",
          "data": {
            "text/plain": [
              "['PNEUMONIA', 'NORMAL']"
            ]
          },
          "metadata": {
            "tags": []
          },
          "execution_count": 245
        }
      ]
    },
    {
      "cell_type": "code",
      "metadata": {
        "id": "rBLsLhtdi2oO",
        "colab_type": "code",
        "outputId": "8d322739-1f18-47e7-8bd7-356799a7a5bc",
        "colab": {
          "base_uri": "https://localhost:8080/",
          "height": 34
        }
      },
      "source": [
        "os.listdir(train_path)"
      ],
      "execution_count": 0,
      "outputs": [
        {
          "output_type": "execute_result",
          "data": {
            "text/plain": [
              "['PNEUMONIA', 'NORMAL']"
            ]
          },
          "metadata": {
            "tags": []
          },
          "execution_count": 246
        }
      ]
    },
    {
      "cell_type": "code",
      "metadata": {
        "id": "_cp6GZB8i4na",
        "colab_type": "code",
        "outputId": "1b26b97a-3738-4670-c66e-11a28ec7269f",
        "colab": {
          "base_uri": "https://localhost:8080/",
          "height": 34
        }
      },
      "source": [
        "os.listdir(val_path)"
      ],
      "execution_count": 0,
      "outputs": [
        {
          "output_type": "execute_result",
          "data": {
            "text/plain": [
              "['PNEUMONIA', 'NORMAL']"
            ]
          },
          "metadata": {
            "tags": []
          },
          "execution_count": 247
        }
      ]
    },
    {
      "cell_type": "markdown",
      "metadata": {
        "id": "MHBkM4DUlpRH",
        "colab_type": "text"
      },
      "source": [
        "Let's check how the images look in the training set."
      ]
    },
    {
      "cell_type": "code",
      "metadata": {
        "id": "z5Z1Jd33i6bA",
        "colab_type": "code",
        "colab": {}
      },
      "source": [
        "para_img= io.imread(train_path+'NORMAL/'+os.listdir(train_path+'NORMAL')[1], as_gray=True)"
      ],
      "execution_count": 0,
      "outputs": []
    },
    {
      "cell_type": "code",
      "metadata": {
        "id": "Y2cTJJf8jzhR",
        "colab_type": "code",
        "outputId": "324d2d1c-b27c-4d65-ed73-4103fdd8c826",
        "colab": {
          "base_uri": "https://localhost:8080/",
          "height": 314
        }
      },
      "source": [
        "io.imshow(para_img)"
      ],
      "execution_count": 0,
      "outputs": [
        {
          "output_type": "execute_result",
          "data": {
            "text/plain": [
              "<matplotlib.image.AxesImage at 0x7f29cfe30f28>"
            ]
          },
          "metadata": {
            "tags": []
          },
          "execution_count": 249
        },
        {
          "output_type": "display_data",
          "data": {
            "image/png": "[encoded data removed]",
            "text/plain": [
              "<Figure size 432x288 with 1 Axes>"
            ]
          },
          "metadata": {
            "tags": []
          }
        }
      ]
    },
    {
      "cell_type": "code",
      "metadata": {
        "id": "t7Bd8B6Nj-QR",
        "colab_type": "code",
        "outputId": "a9fe5ec3-c521-44f2-c74a-3d9f8e7791c0",
        "colab": {
          "base_uri": "https://localhost:8080/",
          "height": 34
        }
      },
      "source": [
        "para_img.shape # Image shape."
      ],
      "execution_count": 0,
      "outputs": [
        {
          "output_type": "execute_result",
          "data": {
            "text/plain": [
              "(1279, 1638)"
            ]
          },
          "metadata": {
            "tags": []
          },
          "execution_count": 250
        }
      ]
    },
    {
      "cell_type": "code",
      "metadata": {
        "id": "A2G_lfEwkDmB",
        "colab_type": "code",
        "outputId": "af14dd29-62cd-423f-b124-1176309d1bfa",
        "colab": {
          "base_uri": "https://localhost:8080/",
          "height": 34
        }
      },
      "source": [
        "len(os.listdir(train_path+'/NORMAL')) # The number of images in the NORMAL category."
      ],
      "execution_count": 0,
      "outputs": [
        {
          "output_type": "execute_result",
          "data": {
            "text/plain": [
              "1341"
            ]
          },
          "metadata": {
            "tags": []
          },
          "execution_count": 251
        }
      ]
    },
    {
      "cell_type": "code",
      "metadata": {
        "id": "qcPXHLjRkyBV",
        "colab_type": "code",
        "outputId": "d01fa134-3897-4d0a-e1af-6387f20ad940",
        "colab": {
          "base_uri": "https://localhost:8080/",
          "height": 34
        }
      },
      "source": [
        "len(os.listdir(train_path+'/PNEUMONIA')) # The number of images in the PNEUMONIA category."
      ],
      "execution_count": 0,
      "outputs": [
        {
          "output_type": "execute_result",
          "data": {
            "text/plain": [
              "3875"
            ]
          },
          "metadata": {
            "tags": []
          },
          "execution_count": 252
        }
      ]
    },
    {
      "cell_type": "markdown",
      "metadata": {
        "id": "8O4M3XwYmMXK",
        "colab_type": "text"
      },
      "source": [
        "Let's check the minimum dimensions of the images."
      ]
    },
    {
      "cell_type": "code",
      "metadata": {
        "id": "JMbfoPT6k1JG",
        "colab_type": "code",
        "colab": {}
      },
      "source": [
        "from skimage import io\n",
        "dim1 = []\n",
        "dim2 = []\n",
        "for image_filename in os.listdir(train_path+'NORMAL'):\n",
        "    \n",
        "    img = io.imread(train_path+'NORMAL/'+image_filename)\n",
        "    d1,d2 = img.shape\n",
        "    dim1.append(d1)\n",
        "    dim2.append(d2)"
      ],
      "execution_count": 0,
      "outputs": []
    },
    {
      "cell_type": "code",
      "metadata": {
        "id": "VnWWgqO-liDe",
        "colab_type": "code",
        "outputId": "65b06674-bbcd-4574-8738-b35248647b2c",
        "colab": {
          "base_uri": "https://localhost:8080/",
          "height": 34
        }
      },
      "source": [
        "np.min(dim1)"
      ],
      "execution_count": 0,
      "outputs": [
        {
          "output_type": "execute_result",
          "data": {
            "text/plain": [
              "672"
            ]
          },
          "metadata": {
            "tags": []
          },
          "execution_count": 254
        }
      ]
    },
    {
      "cell_type": "code",
      "metadata": {
        "id": "Mi1BLYZVmPbU",
        "colab_type": "code",
        "outputId": "01d5ad4c-94aa-424c-f399-a612927c9129",
        "colab": {
          "base_uri": "https://localhost:8080/",
          "height": 34
        }
      },
      "source": [
        "np.min(dim2)"
      ],
      "execution_count": 0,
      "outputs": [
        {
          "output_type": "execute_result",
          "data": {
            "text/plain": [
              "912"
            ]
          },
          "metadata": {
            "tags": []
          },
          "execution_count": 255
        }
      ]
    },
    {
      "cell_type": "markdown",
      "metadata": {
        "id": "09-h2fXNmgFc",
        "colab_type": "text"
      },
      "source": [
        "Because of the limitation of resources we have to reshape images into a smaller dimesnions. That might decrease the accuracy of the model a bit."
      ]
    },
    {
      "cell_type": "code",
      "metadata": {
        "id": "jJRcX3_rmZQZ",
        "colab_type": "code",
        "colab": {}
      },
      "source": [
        "unified_shape = (128,192,3)"
      ],
      "execution_count": 0,
      "outputs": []
    },
    {
      "cell_type": "markdown",
      "metadata": {
        "id": "b8qaCD1Em0N0",
        "colab_type": "text"
      },
      "source": [
        "Let's check how images in the pneumonia category looks."
      ]
    },
    {
      "cell_type": "code",
      "metadata": {
        "colab_type": "code",
        "id": "hRbjCUmYmt5t",
        "colab": {}
      },
      "source": [
        "para_img= io.imread(train_path+'PNEUMONIA/'+os.listdir(train_path+'PNEUMONIA')[20],as_gray=True)"
      ],
      "execution_count": 0,
      "outputs": []
    },
    {
      "cell_type": "code",
      "metadata": {
        "colab_type": "code",
        "outputId": "efad35c7-ce16-460b-c2a8-8ed52a375ba4",
        "id": "gljrHLv3mt6G",
        "colab": {
          "base_uri": "https://localhost:8080/",
          "height": 279
        }
      },
      "source": [
        "io.imshow(para_img)"
      ],
      "execution_count": 0,
      "outputs": [
        {
          "output_type": "execute_result",
          "data": {
            "text/plain": [
              "<matplotlib.image.AxesImage at 0x7f29cfd96e48>"
            ]
          },
          "metadata": {
            "tags": []
          },
          "execution_count": 258
        },
        {
          "output_type": "display_data",
          "data": {
            "image/png": "[encoded data removed]",
            "text/plain": [
              "<Figure size 432x288 with 1 Axes>"
            ]
          },
          "metadata": {
            "tags": []
          }
        }
      ]
    },
    {
      "cell_type": "code",
      "metadata": {
        "id": "7GxOtLRomxyR",
        "colab_type": "code",
        "outputId": "3df87e29-9581-4b77-ac71-72d3e60579a6",
        "colab": {
          "base_uri": "https://localhost:8080/",
          "height": 34
        }
      },
      "source": [
        "para_img.shape # Image shape."
      ],
      "execution_count": 0,
      "outputs": [
        {
          "output_type": "execute_result",
          "data": {
            "text/plain": [
              "(600, 1096)"
            ]
          },
          "metadata": {
            "tags": []
          },
          "execution_count": 259
        }
      ]
    },
    {
      "cell_type": "markdown",
      "metadata": {
        "id": "83T4lpbknaLU",
        "colab_type": "text"
      },
      "source": [
        "We are going to use ImageDataGenerator to add distortion. Image Augmentation is the process of taking images that are already in a training dataset and manipulating them to create many altered versions of the same image. That makes the model more robust."
      ]
    },
    {
      "cell_type": "code",
      "metadata": {
        "id": "G6nq1TMLq3KT",
        "colab_type": "code",
        "colab": {}
      },
      "source": [
        "from tensorflow.keras.preprocessing.image import ImageDataGenerator"
      ],
      "execution_count": 0,
      "outputs": []
    },
    {
      "cell_type": "code",
      "metadata": {
        "id": "Ue2u6CvasG00",
        "colab_type": "code",
        "colab": {}
      },
      "source": [
        "train_image_gen = ImageDataGenerator(rotation_range=20, # rotate the image 20 degrees\n",
        "                               width_shift_range=0.10, # Shift the pic width by a max of 5%\n",
        "                               height_shift_range=0.10, # Shift the pic height by a max of 5%\n",
        "                               shear_range=0.1, # Shear means cutting away part of the image (max 10%)\n",
        "                               zoom_range=0.1, # Zoom in by 10% max\n",
        "                               horizontal_flip=True, # Allo horizontal flipping\n",
        "                               fill_mode='nearest' # Fill in missing pixels with the nearest filled value\n",
        "                               ,samplewise_std_normalization=True,samplewise_center=True) # Allow sample wise normalization and centring\n",
        "test_image_gen = ImageDataGenerator(samplewise_std_normalization=True,samplewise_center=True)\n",
        "val_image_gen = ImageDataGenerator(samplewise_std_normalization=True,samplewise_center=True)"
      ],
      "execution_count": 0,
      "outputs": []
    },
    {
      "cell_type": "markdown",
      "metadata": {
        "id": "S1O5RrYLpVKT",
        "colab_type": "text"
      },
      "source": [
        "Flow_from_directory used to import images directly from a predefined directory."
      ]
    },
    {
      "cell_type": "code",
      "metadata": {
        "id": "EQSj-ibdvzd8",
        "colab_type": "code",
        "outputId": "3e8bb9d3-92bf-4a34-e475-421fe9de2dcd",
        "colab": {
          "base_uri": "https://localhost:8080/",
          "height": 52
        }
      },
      "source": [
        "train_image_gen.flow_from_directory(train_path)"
      ],
      "execution_count": 0,
      "outputs": [
        {
          "output_type": "stream",
          "text": [
            "Found 5216 images belonging to 2 classes.\n"
          ],
          "name": "stdout"
        },
        {
          "output_type": "execute_result",
          "data": {
            "text/plain": [
              "<keras_preprocessing.image.directory_iterator.DirectoryIterator at 0x7f29cfdce828>"
            ]
          },
          "metadata": {
            "tags": []
          },
          "execution_count": 263
        }
      ]
    },
    {
      "cell_type": "code",
      "metadata": {
        "id": "IU1fZV1AyEcU",
        "colab_type": "code",
        "outputId": "13e817c2-6e4b-4a92-8871-2118d252bd98",
        "colab": {
          "base_uri": "https://localhost:8080/",
          "height": 52
        }
      },
      "source": [
        "test_image_gen.flow_from_directory(test_path)"
      ],
      "execution_count": 0,
      "outputs": [
        {
          "output_type": "stream",
          "text": [
            "Found 624 images belonging to 2 classes.\n"
          ],
          "name": "stdout"
        },
        {
          "output_type": "execute_result",
          "data": {
            "text/plain": [
              "<keras_preprocessing.image.directory_iterator.DirectoryIterator at 0x7f29cfd194a8>"
            ]
          },
          "metadata": {
            "tags": []
          },
          "execution_count": 264
        }
      ]
    },
    {
      "cell_type": "code",
      "metadata": {
        "id": "z-QRtTRUyEfW",
        "colab_type": "code",
        "outputId": "9613459d-2f43-4a39-a695-40248620e2b9",
        "colab": {
          "base_uri": "https://localhost:8080/",
          "height": 52
        }
      },
      "source": [
        "val_image_gen.flow_from_directory(val_path)"
      ],
      "execution_count": 0,
      "outputs": [
        {
          "output_type": "stream",
          "text": [
            "Found 16 images belonging to 2 classes.\n"
          ],
          "name": "stdout"
        },
        {
          "output_type": "execute_result",
          "data": {
            "text/plain": [
              "<keras_preprocessing.image.directory_iterator.DirectoryIterator at 0x7f29cfd22748>"
            ]
          },
          "metadata": {
            "tags": []
          },
          "execution_count": 265
        }
      ]
    },
    {
      "cell_type": "markdown",
      "metadata": {
        "id": "OgGHmWu5plaq",
        "colab_type": "text"
      },
      "source": [
        "#3.   Building the model"
      ]
    },
    {
      "cell_type": "markdown",
      "metadata": {
        "id": "9fezQUtlp0ui",
        "colab_type": "text"
      },
      "source": [
        "To activate tpus we must use the following lines."
      ]
    },
    {
      "cell_type": "code",
      "metadata": {
        "id": "Y3BBy_nE09QH",
        "colab_type": "code",
        "outputId": "a53a8bfe-c521-4fff-b422-698bc9c9b18c",
        "colab": {
          "base_uri": "https://localhost:8080/",
          "height": 173
        }
      },
      "source": [
        "import tensorflow as tf\n",
        "resolver = tf.distribute.cluster_resolver.TPUClusterResolver(tpu='grpc://' + os.environ['COLAB_TPU_ADDR'])\n",
        "tf.config.experimental_connect_to_cluster(resolver)\n",
        "tf.tpu.experimental.initialize_tpu_system(resolver)\n"
      ],
      "execution_count": 0,
      "outputs": [
        {
          "output_type": "stream",
          "text": [
            "WARNING:tensorflow:TPU system grpc://10.48.181.194:8470 has already been initialized. Reinitializing the TPU can cause previously created variables on TPU to be lost.\n"
          ],
          "name": "stdout"
        },
        {
          "output_type": "stream",
          "text": [
            "WARNING:tensorflow:TPU system grpc://10.48.181.194:8470 has already been initialized. Reinitializing the TPU can cause previously created variables on TPU to be lost.\n"
          ],
          "name": "stderr"
        },
        {
          "output_type": "stream",
          "text": [
            "INFO:tensorflow:Initializing the TPU system: grpc://10.48.181.194:8470\n"
          ],
          "name": "stdout"
        },
        {
          "output_type": "stream",
          "text": [
            "INFO:tensorflow:Initializing the TPU system: grpc://10.48.181.194:8470\n"
          ],
          "name": "stderr"
        },
        {
          "output_type": "stream",
          "text": [
            "INFO:tensorflow:Clearing out eager caches\n"
          ],
          "name": "stdout"
        },
        {
          "output_type": "stream",
          "text": [
            "INFO:tensorflow:Clearing out eager caches\n"
          ],
          "name": "stderr"
        },
        {
          "output_type": "stream",
          "text": [
            "INFO:tensorflow:Finished initializing TPU system.\n"
          ],
          "name": "stdout"
        },
        {
          "output_type": "stream",
          "text": [
            "INFO:tensorflow:Finished initializing TPU system.\n"
          ],
          "name": "stderr"
        },
        {
          "output_type": "execute_result",
          "data": {
            "text/plain": [
              "<tensorflow.python.tpu.topology.Topology at 0x7f29cfd32898>"
            ]
          },
          "metadata": {
            "tags": []
          },
          "execution_count": 266
        }
      ]
    },
    {
      "cell_type": "code",
      "metadata": {
        "id": "5aAxLdt6yEim",
        "colab_type": "code",
        "colab": {}
      },
      "source": [
        "from tensorflow.keras.models import Sequential\n",
        "from tensorflow.keras.layers import Activation, Dropout, Flatten, Dense, Conv2D, MaxPooling2D"
      ],
      "execution_count": 0,
      "outputs": []
    },
    {
      "cell_type": "markdown",
      "metadata": {
        "id": "x1UeFwWfp-qp",
        "colab_type": "text"
      },
      "source": [
        "Now we will add 3 conventional layers , then add a flatten layer , a dense layer with dropout rate of 0.5 (Drop out turnsoff a fixed percentage every batch). Finally we will use sigmoid to get the results."
      ]
    },
    {
      "cell_type": "code",
      "metadata": {
        "id": "Lk7z0cG-1FYB",
        "colab_type": "code",
        "outputId": "5a17abf9-0a9e-4552-e86c-fcc0796b4c39",
        "colab": {
          "base_uri": "https://localhost:8080/",
          "height": 607
        }
      },
      "source": [
        "\n",
        "strategy = tf.distribute.experimental.TPUStrategy(resolver)\n",
        "with strategy.scope():\n",
        "\n",
        "\n",
        "  model = Sequential()\n",
        "\n",
        "  model.add(Conv2D(filters=32, kernel_size=(7,7),input_shape=unified_shape, activation='relu'))\n",
        "  model.add(MaxPooling2D(pool_size=(2, 2)))\n",
        "\n",
        "  model.add(Conv2D(filters=64, kernel_size=(3,3),input_shape=unified_shape, activation='relu'))\n",
        "  model.add(MaxPooling2D(pool_size=(2, 2)))\n",
        "\n",
        "  model.add(Conv2D(filters=64, kernel_size=(3,3),input_shape=unified_shape, activation='relu'))\n",
        "  model.add(MaxPooling2D(pool_size=(2, 2)))\n",
        "\n",
        "\n",
        "  model.add(Flatten())\n",
        "\n",
        "\n",
        "  model.add(Dense(128))\n",
        "  model.add(Activation('relu'))\n",
        "\n",
        "  model.add(Dropout(0.5))\n",
        "\n",
        "  model.add(Dense(1))\n",
        "  model.add(Activation('sigmoid'))\n",
        "\n",
        "  model.compile(loss='binary_crossentropy',\n",
        "                optimizer='adam',\n",
        "                metrics=['accuracy'])"
      ],
      "execution_count": 0,
      "outputs": [
        {
          "output_type": "stream",
          "text": [
            "INFO:tensorflow:Found TPU system:\n"
          ],
          "name": "stdout"
        },
        {
          "output_type": "stream",
          "text": [
            "INFO:tensorflow:Found TPU system:\n"
          ],
          "name": "stderr"
        },
        {
          "output_type": "stream",
          "text": [
            "INFO:tensorflow:*** Num TPU Cores: 8\n"
          ],
          "name": "stdout"
        },
        {
          "output_type": "stream",
          "text": [
            "INFO:tensorflow:*** Num TPU Cores: 8\n"
          ],
          "name": "stderr"
        },
        {
          "output_type": "stream",
          "text": [
            "INFO:tensorflow:*** Num TPU Workers: 1\n"
          ],
          "name": "stdout"
        },
        {
          "output_type": "stream",
          "text": [
            "INFO:tensorflow:*** Num TPU Workers: 1\n"
          ],
          "name": "stderr"
        },
        {
          "output_type": "stream",
          "text": [
            "INFO:tensorflow:*** Num TPU Cores Per Worker: 8\n"
          ],
          "name": "stdout"
        },
        {
          "output_type": "stream",
          "text": [
            "INFO:tensorflow:*** Num TPU Cores Per Worker: 8\n"
          ],
          "name": "stderr"
        },
        {
          "output_type": "stream",
          "text": [
            "INFO:tensorflow:*** Available Device: _DeviceAttributes(/job:localhost/replica:0/task:0/device:CPU:0, CPU, 0, 0)\n"
          ],
          "name": "stdout"
        },
        {
          "output_type": "stream",
          "text": [
            "INFO:tensorflow:*** Available Device: _DeviceAttributes(/job:localhost/replica:0/task:0/device:CPU:0, CPU, 0, 0)\n"
          ],
          "name": "stderr"
        },
        {
          "output_type": "stream",
          "text": [
            "INFO:tensorflow:*** Available Device: _DeviceAttributes(/job:localhost/replica:0/task:0/device:XLA_CPU:0, XLA_CPU, 0, 0)\n"
          ],
          "name": "stdout"
        },
        {
          "output_type": "stream",
          "text": [
            "INFO:tensorflow:*** Available Device: _DeviceAttributes(/job:localhost/replica:0/task:0/device:XLA_CPU:0, XLA_CPU, 0, 0)\n"
          ],
          "name": "stderr"
        },
        {
          "output_type": "stream",
          "text": [
            "INFO:tensorflow:*** Available Device: _DeviceAttributes(/job:worker/replica:0/task:0/device:CPU:0, CPU, 0, 0)\n"
          ],
          "name": "stdout"
        },
        {
          "output_type": "stream",
          "text": [
            "INFO:tensorflow:*** Available Device: _DeviceAttributes(/job:worker/replica:0/task:0/device:CPU:0, CPU, 0, 0)\n"
          ],
          "name": "stderr"
        },
        {
          "output_type": "stream",
          "text": [
            "INFO:tensorflow:*** Available Device: _DeviceAttributes(/job:worker/replica:0/task:0/device:TPU:0, TPU, 0, 0)\n"
          ],
          "name": "stdout"
        },
        {
          "output_type": "stream",
          "text": [
            "INFO:tensorflow:*** Available Device: _DeviceAttributes(/job:worker/replica:0/task:0/device:TPU:0, TPU, 0, 0)\n"
          ],
          "name": "stderr"
        },
        {
          "output_type": "stream",
          "text": [
            "INFO:tensorflow:*** Available Device: _DeviceAttributes(/job:worker/replica:0/task:0/device:TPU:1, TPU, 0, 0)\n"
          ],
          "name": "stdout"
        },
        {
          "output_type": "stream",
          "text": [
            "INFO:tensorflow:*** Available Device: _DeviceAttributes(/job:worker/replica:0/task:0/device:TPU:1, TPU, 0, 0)\n"
          ],
          "name": "stderr"
        },
        {
          "output_type": "stream",
          "text": [
            "INFO:tensorflow:*** Available Device: _DeviceAttributes(/job:worker/replica:0/task:0/device:TPU:2, TPU, 0, 0)\n"
          ],
          "name": "stdout"
        },
        {
          "output_type": "stream",
          "text": [
            "INFO:tensorflow:*** Available Device: _DeviceAttributes(/job:worker/replica:0/task:0/device:TPU:2, TPU, 0, 0)\n"
          ],
          "name": "stderr"
        },
        {
          "output_type": "stream",
          "text": [
            "INFO:tensorflow:*** Available Device: _DeviceAttributes(/job:worker/replica:0/task:0/device:TPU:3, TPU, 0, 0)\n"
          ],
          "name": "stdout"
        },
        {
          "output_type": "stream",
          "text": [
            "INFO:tensorflow:*** Available Device: _DeviceAttributes(/job:worker/replica:0/task:0/device:TPU:3, TPU, 0, 0)\n"
          ],
          "name": "stderr"
        },
        {
          "output_type": "stream",
          "text": [
            "INFO:tensorflow:*** Available Device: _DeviceAttributes(/job:worker/replica:0/task:0/device:TPU:4, TPU, 0, 0)\n"
          ],
          "name": "stdout"
        },
        {
          "output_type": "stream",
          "text": [
            "INFO:tensorflow:*** Available Device: _DeviceAttributes(/job:worker/replica:0/task:0/device:TPU:4, TPU, 0, 0)\n"
          ],
          "name": "stderr"
        },
        {
          "output_type": "stream",
          "text": [
            "INFO:tensorflow:*** Available Device: _DeviceAttributes(/job:worker/replica:0/task:0/device:TPU:5, TPU, 0, 0)\n"
          ],
          "name": "stdout"
        },
        {
          "output_type": "stream",
          "text": [
            "INFO:tensorflow:*** Available Device: _DeviceAttributes(/job:worker/replica:0/task:0/device:TPU:5, TPU, 0, 0)\n"
          ],
          "name": "stderr"
        },
        {
          "output_type": "stream",
          "text": [
            "INFO:tensorflow:*** Available Device: _DeviceAttributes(/job:worker/replica:0/task:0/device:TPU:6, TPU, 0, 0)\n"
          ],
          "name": "stdout"
        },
        {
          "output_type": "stream",
          "text": [
            "INFO:tensorflow:*** Available Device: _DeviceAttributes(/job:worker/replica:0/task:0/device:TPU:6, TPU, 0, 0)\n"
          ],
          "name": "stderr"
        },
        {
          "output_type": "stream",
          "text": [
            "INFO:tensorflow:*** Available Device: _DeviceAttributes(/job:worker/replica:0/task:0/device:TPU:7, TPU, 0, 0)\n"
          ],
          "name": "stdout"
        },
        {
          "output_type": "stream",
          "text": [
            "INFO:tensorflow:*** Available Device: _DeviceAttributes(/job:worker/replica:0/task:0/device:TPU:7, TPU, 0, 0)\n"
          ],
          "name": "stderr"
        },
        {
          "output_type": "stream",
          "text": [
            "INFO:tensorflow:*** Available Device: _DeviceAttributes(/job:worker/replica:0/task:0/device:TPU_SYSTEM:0, TPU_SYSTEM, 0, 0)\n"
          ],
          "name": "stdout"
        },
        {
          "output_type": "stream",
          "text": [
            "INFO:tensorflow:*** Available Device: _DeviceAttributes(/job:worker/replica:0/task:0/device:TPU_SYSTEM:0, TPU_SYSTEM, 0, 0)\n"
          ],
          "name": "stderr"
        },
        {
          "output_type": "stream",
          "text": [
            "INFO:tensorflow:*** Available Device: _DeviceAttributes(/job:worker/replica:0/task:0/device:XLA_CPU:0, XLA_CPU, 0, 0)\n"
          ],
          "name": "stdout"
        },
        {
          "output_type": "stream",
          "text": [
            "INFO:tensorflow:*** Available Device: _DeviceAttributes(/job:worker/replica:0/task:0/device:XLA_CPU:0, XLA_CPU, 0, 0)\n"
          ],
          "name": "stderr"
        }
      ]
    },
    {
      "cell_type": "code",
      "metadata": {
        "id": "H033JWyI1MEH",
        "colab_type": "code",
        "outputId": "64df74ea-69f4-41a6-f368-970b67765cad",
        "colab": {
          "base_uri": "https://localhost:8080/",
          "height": 573
        }
      },
      "source": [
        "model.summary() # The neural network summary."
      ],
      "execution_count": 0,
      "outputs": [
        {
          "output_type": "stream",
          "text": [
            "Model: \"sequential_4\"\n",
            "_________________________________________________________________\n",
            "Layer (type)                 Output Shape              Param #   \n",
            "=================================================================\n",
            "conv2d_11 (Conv2D)           (None, 122, 186, 32)      4736      \n",
            "_________________________________________________________________\n",
            "max_pooling2d_11 (MaxPooling (None, 61, 93, 32)        0         \n",
            "_________________________________________________________________\n",
            "conv2d_12 (Conv2D)           (None, 59, 91, 64)        18496     \n",
            "_________________________________________________________________\n",
            "max_pooling2d_12 (MaxPooling (None, 29, 45, 64)        0         \n",
            "_________________________________________________________________\n",
            "conv2d_13 (Conv2D)           (None, 27, 43, 64)        36928     \n",
            "_________________________________________________________________\n",
            "max_pooling2d_13 (MaxPooling (None, 13, 21, 64)        0         \n",
            "_________________________________________________________________\n",
            "flatten_4 (Flatten)          (None, 17472)             0         \n",
            "_________________________________________________________________\n",
            "dense_8 (Dense)              (None, 128)               2236544   \n",
            "_________________________________________________________________\n",
            "activation_8 (Activation)    (None, 128)               0         \n",
            "_________________________________________________________________\n",
            "dropout_4 (Dropout)          (None, 128)               0         \n",
            "_________________________________________________________________\n",
            "dense_9 (Dense)              (None, 1)                 129       \n",
            "_________________________________________________________________\n",
            "activation_9 (Activation)    (None, 1)                 0         \n",
            "=================================================================\n",
            "Total params: 2,296,833\n",
            "Trainable params: 2,296,833\n",
            "Non-trainable params: 0\n",
            "_________________________________________________________________\n"
          ],
          "name": "stdout"
        }
      ]
    },
    {
      "cell_type": "code",
      "metadata": {
        "id": "5almPkXPvPe4",
        "colab_type": "code",
        "colab": {}
      },
      "source": [
        "from tensorflow.keras.callbacks import EarlyStopping"
      ],
      "execution_count": 0,
      "outputs": []
    },
    {
      "cell_type": "markdown",
      "metadata": {
        "id": "rvBU7oJbrUm9",
        "colab_type": "text"
      },
      "source": [
        "Early stopping stops the training process when value we are monitoring doesn't decrease for a number of batches. Fore our model we will monitor validation loss and wait 2 batches before stopping the model."
      ]
    },
    {
      "cell_type": "code",
      "metadata": {
        "id": "QXXtHdEWvPe9",
        "colab_type": "code",
        "colab": {}
      },
      "source": [
        "early_stop = EarlyStopping(monitor='val_loss',patience=2)"
      ],
      "execution_count": 0,
      "outputs": []
    },
    {
      "cell_type": "markdown",
      "metadata": {
        "id": "_eFX4ctcrzdO",
        "colab_type": "text"
      },
      "source": [
        "Here we must set batch size as the number of images in each directory."
      ]
    },
    {
      "cell_type": "code",
      "metadata": {
        "id": "7KbV9n4rvPfJ",
        "colab_type": "code",
        "outputId": "a9abbd97-dee1-49ed-e2ee-696360db3a00",
        "colab": {
          "base_uri": "https://localhost:8080/",
          "height": 34
        }
      },
      "source": [
        "train_image_gen = train_image_gen.flow_from_directory(train_path,\n",
        "                                               target_size=unified_shape[:2],\n",
        "                                                color_mode='rgb',\n",
        "                                               batch_size=5216,\n",
        "                                               class_mode='binary')"
      ],
      "execution_count": 0,
      "outputs": [
        {
          "output_type": "stream",
          "text": [
            "Found 5216 images belonging to 2 classes.\n"
          ],
          "name": "stdout"
        }
      ]
    },
    {
      "cell_type": "code",
      "metadata": {
        "id": "inaJAu-xvPfM",
        "colab_type": "code",
        "outputId": "ca7c961b-d180-497a-9def-ae7d48aed20f",
        "colab": {
          "base_uri": "https://localhost:8080/",
          "height": 34
        }
      },
      "source": [
        "test_image_gen = test_image_gen.flow_from_directory(test_path,\n",
        "                                               target_size=unified_shape[:2],\n",
        "                                               color_mode='rgb',\n",
        "                                               batch_size=624,\n",
        "                                               class_mode='binary',shuffle=False)"
      ],
      "execution_count": 0,
      "outputs": [
        {
          "output_type": "stream",
          "text": [
            "Found 624 images belonging to 2 classes.\n"
          ],
          "name": "stdout"
        }
      ]
    },
    {
      "cell_type": "code",
      "metadata": {
        "id": "PvbngYIj189T",
        "colab_type": "code",
        "outputId": "7bd461ad-c954-4bd6-e1dd-3a933abfe614",
        "colab": {
          "base_uri": "https://localhost:8080/",
          "height": 34
        }
      },
      "source": [
        "val_image_gen = val_image_gen.flow_from_directory(val_path,\n",
        "                                               target_size=unified_shape[:2],\n",
        "                                               color_mode='rgb',\n",
        "                                               batch_size=16,\n",
        "                                               class_mode='binary',shuffle=False)"
      ],
      "execution_count": 0,
      "outputs": [
        {
          "output_type": "stream",
          "text": [
            "Found 16 images belonging to 2 classes.\n"
          ],
          "name": "stdout"
        }
      ]
    },
    {
      "cell_type": "code",
      "metadata": {
        "id": "PtEt8wYcsP3n",
        "colab_type": "code",
        "colab": {}
      },
      "source": [
        "Now we must split the images into x and y datasets."
      ],
      "execution_count": 0,
      "outputs": []
    },
    {
      "cell_type": "code",
      "metadata": {
        "id": "ZmgMY3tn-Gqi",
        "colab_type": "code",
        "colab": {}
      },
      "source": [
        "X_train, y_train = train_image_gen.next()\n",
        "X_test, y_test = test_image_gen.next()\n",
        "X_val, y_val = val_image_gen.next()"
      ],
      "execution_count": 0,
      "outputs": []
    },
    {
      "cell_type": "code",
      "metadata": {
        "id": "ypuvy29e2DOD",
        "colab_type": "code",
        "outputId": "8c559ec2-1fde-4e3e-b59d-31eb00d352b5",
        "colab": {
          "base_uri": "https://localhost:8080/",
          "height": 34
        }
      },
      "source": [
        "train_image_gen.class_indices"
      ],
      "execution_count": 0,
      "outputs": [
        {
          "output_type": "execute_result",
          "data": {
            "text/plain": [
              "{'NORMAL': 0, 'PNEUMONIA': 1}"
            ]
          },
          "metadata": {
            "tags": []
          },
          "execution_count": 276
        }
      ]
    },
    {
      "cell_type": "code",
      "metadata": {
        "id": "Hm_SibON2Fdn",
        "colab_type": "code",
        "colab": {}
      },
      "source": [
        "import warnings\n",
        "warnings.filterwarnings('ignore')"
      ],
      "execution_count": 0,
      "outputs": []
    },
    {
      "cell_type": "code",
      "metadata": {
        "id": "HkA8gLtc2HpS",
        "colab_type": "code",
        "outputId": "61ebc9d8-dd6f-4660-9aeb-d008a1bc61a0",
        "colab": {
          "base_uri": "https://localhost:8080/",
          "height": 332
        }
      },
      "source": [
        "model.fit(X_train,y_train,epochs=500,\n",
        "                              validation_data=(X_val,y_val),\n",
        "                             callbacks=[early_stop])"
      ],
      "execution_count": 0,
      "outputs": [
        {
          "output_type": "stream",
          "text": [
            "Epoch 1/500\n",
            "163/163 [==============================] - 7s 43ms/step - loss: 0.4608 - accuracy: 0.7786 - val_loss: 0.7870 - val_accuracy: 0.6875\n",
            "Epoch 2/500\n",
            "163/163 [==============================] - 4s 24ms/step - loss: 0.3282 - accuracy: 0.8620 - val_loss: 0.5544 - val_accuracy: 0.5625\n",
            "Epoch 3/500\n",
            "163/163 [==============================] - 4s 24ms/step - loss: 0.2754 - accuracy: 0.8875 - val_loss: 0.4923 - val_accuracy: 0.8125\n",
            "Epoch 4/500\n",
            "163/163 [==============================] - 4s 24ms/step - loss: 0.2393 - accuracy: 0.9103 - val_loss: 0.4354 - val_accuracy: 0.8125\n",
            "Epoch 5/500\n",
            "163/163 [==============================] - ETA: 0s - loss: 0.1989 - accuracy: 0.9283WARNING:tensorflow:5 out of the last 5 calls to <function Model.make_test_function.<locals>.test_function at 0x7f29cf597268> triggered tf.function retracing. Tracing is expensive and the excessive number of tracings is likely due to passing python objects instead of tensors. Also, tf.function has experimental_relax_shapes=True option that relaxes argument shapes that can avoid unnecessary retracing. Please refer to https://www.tensorflow.org/tutorials/customization/performance#python_or_tensor_args and https://www.tensorflow.org/api_docs/python/tf/function for more details.\n"
          ],
          "name": "stdout"
        },
        {
          "output_type": "stream",
          "text": [
            "WARNING:tensorflow:5 out of the last 5 calls to <function Model.make_test_function.<locals>.test_function at 0x7f29cf597268> triggered tf.function retracing. Tracing is expensive and the excessive number of tracings is likely due to passing python objects instead of tensors. Also, tf.function has experimental_relax_shapes=True option that relaxes argument shapes that can avoid unnecessary retracing. Please refer to https://www.tensorflow.org/tutorials/customization/performance#python_or_tensor_args and https://www.tensorflow.org/api_docs/python/tf/function for more details.\n"
          ],
          "name": "stderr"
        },
        {
          "output_type": "stream",
          "text": [
            "163/163 [==============================] - 5s 28ms/step - loss: 0.1989 - accuracy: 0.9283 - val_loss: 0.5056 - val_accuracy: 0.7500\n",
            "Epoch 6/500\n",
            "163/163 [==============================] - ETA: 0s - loss: 0.1843 - accuracy: 0.9337WARNING:tensorflow:6 out of the last 6 calls to <function Model.make_test_function.<locals>.test_function at 0x7f29cf597268> triggered tf.function retracing. Tracing is expensive and the excessive number of tracings is likely due to passing python objects instead of tensors. Also, tf.function has experimental_relax_shapes=True option that relaxes argument shapes that can avoid unnecessary retracing. Please refer to https://www.tensorflow.org/tutorials/customization/performance#python_or_tensor_args and https://www.tensorflow.org/api_docs/python/tf/function for more details.\n"
          ],
          "name": "stdout"
        },
        {
          "output_type": "stream",
          "text": [
            "WARNING:tensorflow:6 out of the last 6 calls to <function Model.make_test_function.<locals>.test_function at 0x7f29cf597268> triggered tf.function retracing. Tracing is expensive and the excessive number of tracings is likely due to passing python objects instead of tensors. Also, tf.function has experimental_relax_shapes=True option that relaxes argument shapes that can avoid unnecessary retracing. Please refer to https://www.tensorflow.org/tutorials/customization/performance#python_or_tensor_args and https://www.tensorflow.org/api_docs/python/tf/function for more details.\n"
          ],
          "name": "stderr"
        },
        {
          "output_type": "stream",
          "text": [
            "\b\b\b\b\b\b\b\b\b\b\b\b\b\b\b\b\b\b\b\b\b\b\b\b\b\b\b\b\b\b\b\b\b\b\b\b\b\b\b\b\b\b\b\b\b\b\b\b\b\b\b\b\b\b\b\b\b\b\b\b\b\b\b\b\b\b\b\b\b\b\b\b\b\b\b\b\b\b\b\b\b\b\b\b\r163/163 [==============================] - 4s 25ms/step - loss: 0.1843 - accuracy: 0.9337 - val_loss: 0.5125 - val_accuracy: 0.7500\n"
          ],
          "name": "stdout"
        },
        {
          "output_type": "execute_result",
          "data": {
            "text/plain": [
              "<tensorflow.python.keras.callbacks.History at 0x7f29cfb08128>"
            ]
          },
          "metadata": {
            "tags": []
          },
          "execution_count": 278
        }
      ]
    },
    {
      "cell_type": "markdown",
      "metadata": {
        "id": "Min-rof9sfEA",
        "colab_type": "text"
      },
      "source": [
        "#4.   Evaluating the model results."
      ]
    },
    {
      "cell_type": "code",
      "metadata": {
        "id": "B6AroPVQ2SUb",
        "colab_type": "code",
        "colab": {}
      },
      "source": [
        "losses = pd.DataFrame(model.history.history)"
      ],
      "execution_count": 0,
      "outputs": []
    },
    {
      "cell_type": "code",
      "metadata": {
        "id": "dreATGA4C1Ss",
        "colab_type": "code",
        "outputId": "9b44e241-67de-4ad0-b9e9-073a404a8c54",
        "colab": {
          "base_uri": "https://localhost:8080/",
          "height": 282
        }
      },
      "source": [
        "losses[['loss','val_loss']].plot() # loss plot"
      ],
      "execution_count": 0,
      "outputs": [
        {
          "output_type": "execute_result",
          "data": {
            "text/plain": [
              "<matplotlib.axes._subplots.AxesSubplot at 0x7f29cfad5198>"
            ]
          },
          "metadata": {
            "tags": []
          },
          "execution_count": 280
        },
        {
          "output_type": "display_data",
          "data": {
            "image/png": "[encoded data removed]",
            "text/plain": [
              "<Figure size 432x288 with 1 Axes>"
            ]
          },
          "metadata": {
            "tags": []
          }
        }
      ]
    },
    {
      "cell_type": "code",
      "metadata": {
        "id": "qdY-R7b8Pfoj",
        "colab_type": "code",
        "outputId": "d8b1f375-b010-4a4f-a40c-10d31ad0b1c9",
        "colab": {
          "base_uri": "https://localhost:8080/",
          "height": 285
        }
      },
      "source": [
        "losses[['accuracy','val_accuracy']].plot() # accuracy plot"
      ],
      "execution_count": 0,
      "outputs": [
        {
          "output_type": "execute_result",
          "data": {
            "text/plain": [
              "<matplotlib.axes._subplots.AxesSubplot at 0x7f29cf4550b8>"
            ]
          },
          "metadata": {
            "tags": []
          },
          "execution_count": 312
        },
        {
          "output_type": "display_data",
          "data": {
            "image/png": "[encoded data removed]",
            "text/plain": [
              "<Figure size 432x288 with 1 Axes>"
            ]
          },
          "metadata": {
            "tags": []
          }
        }
      ]
    },
    {
      "cell_type": "markdown",
      "metadata": {
        "id": "Ea2nPmTetFVi",
        "colab_type": "text"
      },
      "source": [
        "#5.   Predicting the test set."
      ]
    },
    {
      "cell_type": "code",
      "metadata": {
        "id": "zIHskStMC1QI",
        "colab_type": "code",
        "colab": {}
      },
      "source": [
        "pred_probabilities = model.predict(X_test)"
      ],
      "execution_count": 0,
      "outputs": []
    },
    {
      "cell_type": "markdown",
      "metadata": {
        "id": "d3gRmCqJtN1Q",
        "colab_type": "text"
      },
      "source": [
        "The values we have here are the probabilities which varries from 0 to 1."
      ]
    },
    {
      "cell_type": "code",
      "metadata": {
        "id": "vlft1S4ODO4D",
        "colab_type": "code",
        "outputId": "e38496b2-57cc-4f51-d719-2eb13dcf414f",
        "colab": {
          "base_uri": "https://localhost:8080/",
          "height": 1000
        }
      },
      "source": [
        "pred_probabilities"
      ],
      "execution_count": 0,
      "outputs": [
        {
          "output_type": "execute_result",
          "data": {
            "text/plain": [
              "array([[0.5596579 ],\n",
              "       [0.5078775 ],\n",
              "       [0.8262192 ],\n",
              "       [0.8624947 ],\n",
              "       [0.606114  ],\n",
              "       [0.1576652 ],\n",
              "       [0.78957355],\n",
              "       [0.907526  ],\n",
              "       [0.78742397],\n",
              "       [0.8206502 ],\n",
              "       [0.51042455],\n",
              "       [0.78668916],\n",
              "       [0.45692316],\n",
              "       [0.60664743],\n",
              "       [0.55529535],\n",
              "       [0.56149507],\n",
              "       [0.99915236],\n",
              "       [0.8630919 ],\n",
              "       [0.27623215],\n",
              "       [0.47363842],\n",
              "       [0.6393266 ],\n",
              "       [0.76572406],\n",
              "       [0.7353033 ],\n",
              "       [0.56447697],\n",
              "       [0.7315566 ],\n",
              "       [0.7082611 ],\n",
              "       [0.98412216],\n",
              "       [0.2434634 ],\n",
              "       [0.37259397],\n",
              "       [0.544594  ],\n",
              "       [0.56350875],\n",
              "       [0.4934231 ],\n",
              "       [0.5777623 ],\n",
              "       [0.41402653],\n",
              "       [0.7485369 ],\n",
              "       [0.20729002],\n",
              "       [0.03478596],\n",
              "       [0.6164101 ],\n",
              "       [0.24439284],\n",
              "       [0.03957468],\n",
              "       [0.96023536],\n",
              "       [0.33294845],\n",
              "       [0.11726874],\n",
              "       [0.08581728],\n",
              "       [0.6925193 ],\n",
              "       [0.95511746],\n",
              "       [0.9028264 ],\n",
              "       [0.84278756],\n",
              "       [0.7544026 ],\n",
              "       [0.7769494 ],\n",
              "       [0.39718783],\n",
              "       [0.37976754],\n",
              "       [0.8095225 ],\n",
              "       [0.26756564],\n",
              "       [0.6262522 ],\n",
              "       [0.07060596],\n",
              "       [0.65569127],\n",
              "       [0.5987847 ],\n",
              "       [0.5313748 ],\n",
              "       [0.35394216],\n",
              "       [0.25926837],\n",
              "       [0.9789508 ],\n",
              "       [0.68387896],\n",
              "       [0.00581214],\n",
              "       [0.14177191],\n",
              "       [0.1235491 ],\n",
              "       [0.42560405],\n",
              "       [0.97453034],\n",
              "       [0.3922678 ],\n",
              "       [0.46961647],\n",
              "       [0.1400927 ],\n",
              "       [0.3144859 ],\n",
              "       [0.39065352],\n",
              "       [0.25866336],\n",
              "       [0.07956263],\n",
              "       [0.5418904 ],\n",
              "       [0.12840945],\n",
              "       [0.34005222],\n",
              "       [0.02154946],\n",
              "       [0.18930769],\n",
              "       [0.5594525 ],\n",
              "       [0.29841822],\n",
              "       [0.03664076],\n",
              "       [0.20368555],\n",
              "       [0.22259209],\n",
              "       [0.8719044 ],\n",
              "       [0.01518211],\n",
              "       [0.10223508],\n",
              "       [0.46231762],\n",
              "       [0.3660061 ],\n",
              "       [0.01601747],\n",
              "       [0.24557132],\n",
              "       [0.67571163],\n",
              "       [0.6453836 ],\n",
              "       [0.2638257 ],\n",
              "       [0.2638257 ],\n",
              "       [0.01789603],\n",
              "       [0.14777812],\n",
              "       [0.47809872],\n",
              "       [0.40800586],\n",
              "       [0.04795104],\n",
              "       [0.63067734],\n",
              "       [0.21680015],\n",
              "       [0.8317372 ],\n",
              "       [0.83775806],\n",
              "       [0.17857632],\n",
              "       [0.10031244],\n",
              "       [0.00776696],\n",
              "       [0.07844847],\n",
              "       [0.57339895],\n",
              "       [0.45635012],\n",
              "       [0.05309165],\n",
              "       [0.01655763],\n",
              "       [0.8322116 ],\n",
              "       [0.09800294],\n",
              "       [0.7701452 ],\n",
              "       [0.8410195 ],\n",
              "       [0.8501635 ],\n",
              "       [0.8501635 ],\n",
              "       [0.8771467 ],\n",
              "       [0.9492289 ],\n",
              "       [0.9996265 ],\n",
              "       [0.9987974 ],\n",
              "       [0.9936447 ],\n",
              "       [0.98253226],\n",
              "       [0.04513961],\n",
              "       [0.984253  ],\n",
              "       [0.5073143 ],\n",
              "       [0.8344227 ],\n",
              "       [0.99392205],\n",
              "       [0.9889312 ],\n",
              "       [0.96359116],\n",
              "       [0.91671884],\n",
              "       [0.99857223],\n",
              "       [0.9704871 ],\n",
              "       [0.8383748 ],\n",
              "       [0.9987869 ],\n",
              "       [0.9648207 ],\n",
              "       [0.9456625 ],\n",
              "       [0.9456625 ],\n",
              "       [0.9983513 ],\n",
              "       [0.12304044],\n",
              "       [0.9976083 ],\n",
              "       [0.99911535],\n",
              "       [0.9999758 ],\n",
              "       [0.8791574 ],\n",
              "       [0.9639657 ],\n",
              "       [0.990944  ],\n",
              "       [0.01853243],\n",
              "       [0.2327041 ],\n",
              "       [0.22972101],\n",
              "       [0.21216226],\n",
              "       [0.63214284],\n",
              "       [0.77349985],\n",
              "       [0.6215537 ],\n",
              "       [0.02679566],\n",
              "       [0.71708226],\n",
              "       [0.27163804],\n",
              "       [0.5236872 ],\n",
              "       [0.8053081 ],\n",
              "       [0.9620315 ],\n",
              "       [0.04628071],\n",
              "       [0.12971142],\n",
              "       [0.86304027],\n",
              "       [0.91232336],\n",
              "       [0.19495806],\n",
              "       [0.7811203 ],\n",
              "       [0.6395061 ],\n",
              "       [0.51578784],\n",
              "       [0.39150453],\n",
              "       [0.48900634],\n",
              "       [0.959615  ],\n",
              "       [0.8356016 ],\n",
              "       [0.86789376],\n",
              "       [0.8130005 ],\n",
              "       [0.03965217],\n",
              "       [0.06843674],\n",
              "       [0.10499072],\n",
              "       [0.7736592 ],\n",
              "       [0.0490678 ],\n",
              "       [0.74740446],\n",
              "       [0.81470275],\n",
              "       [0.97324693],\n",
              "       [0.6370782 ],\n",
              "       [0.13977572],\n",
              "       [0.07581526],\n",
              "       [0.2266146 ],\n",
              "       [0.05447391],\n",
              "       [0.74646205],\n",
              "       [0.8590592 ],\n",
              "       [0.7433734 ],\n",
              "       [0.28290033],\n",
              "       [0.35039747],\n",
              "       [0.99615777],\n",
              "       [0.27503738],\n",
              "       [0.7416447 ],\n",
              "       [0.06633502],\n",
              "       [0.8544316 ],\n",
              "       [0.7966565 ],\n",
              "       [0.09839642],\n",
              "       [0.75670326],\n",
              "       [0.6054797 ],\n",
              "       [0.2559396 ],\n",
              "       [0.14614773],\n",
              "       [0.04242697],\n",
              "       [0.37407815],\n",
              "       [0.14621511],\n",
              "       [0.50051934],\n",
              "       [0.18628049],\n",
              "       [0.79238415],\n",
              "       [0.36821008],\n",
              "       [0.23479825],\n",
              "       [0.27065468],\n",
              "       [0.83939373],\n",
              "       [0.17739922],\n",
              "       [0.19103605],\n",
              "       [0.9920773 ],\n",
              "       [0.79326904],\n",
              "       [0.6158602 ],\n",
              "       [0.722322  ],\n",
              "       [0.5522691 ],\n",
              "       [0.8483027 ],\n",
              "       [0.96580267],\n",
              "       [0.48433515],\n",
              "       [0.25084582],\n",
              "       [0.1081197 ],\n",
              "       [0.99988234],\n",
              "       [0.75780076],\n",
              "       [0.95838606],\n",
              "       [0.15298563],\n",
              "       [0.9560129 ],\n",
              "       [0.33101436],\n",
              "       [0.12960818],\n",
              "       [0.6288953 ],\n",
              "       [0.99576426],\n",
              "       [0.99584997],\n",
              "       [0.99999994],\n",
              "       [0.9999962 ],\n",
              "       [0.9999988 ],\n",
              "       [0.9999999 ],\n",
              "       [1.        ],\n",
              "       [0.9990047 ],\n",
              "       [0.92126966],\n",
              "       [0.9999932 ],\n",
              "       [0.9999974 ],\n",
              "       [0.9868493 ],\n",
              "       [1.        ],\n",
              "       [0.99999964],\n",
              "       [0.99986565],\n",
              "       [0.99998593],\n",
              "       [0.9999907 ],\n",
              "       [0.99882746],\n",
              "       [0.99875915],\n",
              "       [0.9999998 ],\n",
              "       [0.97217256],\n",
              "       [0.9814099 ],\n",
              "       [0.9998443 ],\n",
              "       [0.99773306],\n",
              "       [0.9998311 ],\n",
              "       [0.90656936],\n",
              "       [0.9974804 ],\n",
              "       [0.9999876 ],\n",
              "       [0.99999994],\n",
              "       [0.99868125],\n",
              "       [0.999334  ],\n",
              "       [0.9991543 ],\n",
              "       [0.9999999 ],\n",
              "       [0.99999774],\n",
              "       [0.9999995 ],\n",
              "       [0.99999976],\n",
              "       [0.9947648 ],\n",
              "       [0.9999409 ],\n",
              "       [0.9999046 ],\n",
              "       [0.99999803],\n",
              "       [0.99999994],\n",
              "       [0.9999995 ],\n",
              "       [0.99998176],\n",
              "       [0.99757546],\n",
              "       [0.9982954 ],\n",
              "       [0.99993885],\n",
              "       [0.99827033],\n",
              "       [0.98308456],\n",
              "       [0.76571167],\n",
              "       [0.9883965 ],\n",
              "       [0.62640375],\n",
              "       [0.9999971 ],\n",
              "       [0.9998834 ],\n",
              "       [0.5927795 ],\n",
              "       [0.8448935 ],\n",
              "       [0.99946964],\n",
              "       [0.9999974 ],\n",
              "       [0.99999714],\n",
              "       [0.9999963 ],\n",
              "       [0.99767685],\n",
              "       [0.9979197 ],\n",
              "       [0.99998206],\n",
              "       [0.9999989 ],\n",
              "       [1.        ],\n",
              "       [0.99724126],\n",
              "       [0.9503051 ],\n",
              "       [0.99999857],\n",
              "       [0.99998194],\n",
              "       [0.9982227 ],\n",
              "       [0.99999994],\n",
              "       [0.999979  ],\n",
              "       [0.9999939 ],\n",
              "       [0.99993557],\n",
              "       [0.9999362 ],\n",
              "       [0.9998454 ],\n",
              "       [0.9771569 ],\n",
              "       [0.9999738 ],\n",
              "       [0.999987  ],\n",
              "       [1.        ],\n",
              "       [1.        ],\n",
              "       [1.        ],\n",
              "       [0.99997675],\n",
              "       [0.9999089 ],\n",
              "       [0.25047672],\n",
              "       [1.        ],\n",
              "       [1.        ],\n",
              "       [1.        ],\n",
              "       [0.9998427 ],\n",
              "       [0.71141005],\n",
              "       [0.99939775],\n",
              "       [1.        ],\n",
              "       [0.99874955],\n",
              "       [0.97418267],\n",
              "       [0.9999997 ],\n",
              "       [0.99984974],\n",
              "       [1.        ],\n",
              "       [0.99999523],\n",
              "       [0.99999976],\n",
              "       [1.        ],\n",
              "       [1.        ],\n",
              "       [0.8054209 ],\n",
              "       [0.86576295],\n",
              "       [0.8855529 ],\n",
              "       [0.994821  ],\n",
              "       [0.994821  ],\n",
              "       [0.99999595],\n",
              "       [0.9999393 ],\n",
              "       [0.72293043],\n",
              "       [0.9994427 ],\n",
              "       [1.        ],\n",
              "       [1.        ],\n",
              "       [0.93647766],\n",
              "       [0.99999404],\n",
              "       [0.9390376 ],\n",
              "       [0.9843519 ],\n",
              "       [0.99873984],\n",
              "       [1.        ],\n",
              "       [1.        ],\n",
              "       [0.9999997 ],\n",
              "       [1.        ],\n",
              "       [1.        ],\n",
              "       [0.99999994],\n",
              "       [0.52778167],\n",
              "       [0.98706603],\n",
              "       [0.9998741 ],\n",
              "       [1.        ],\n",
              "       [0.99999994],\n",
              "       [0.99999964],\n",
              "       [0.999983  ],\n",
              "       [0.9998314 ],\n",
              "       [0.9999956 ],\n",
              "       [0.9994804 ],\n",
              "       [0.9999935 ],\n",
              "       [0.99999887],\n",
              "       [0.99960625],\n",
              "       [0.9998688 ],\n",
              "       [0.99999976],\n",
              "       [0.7797334 ],\n",
              "       [0.9999209 ],\n",
              "       [0.9985552 ],\n",
              "       [0.9999997 ],\n",
              "       [0.99997187],\n",
              "       [0.99989957],\n",
              "       [0.9991263 ],\n",
              "       [0.99977106],\n",
              "       [0.7312218 ],\n",
              "       [0.99991804],\n",
              "       [0.99993014],\n",
              "       [0.96997285],\n",
              "       [0.99960625],\n",
              "       [0.98629373],\n",
              "       [0.99998367],\n",
              "       [0.999925  ],\n",
              "       [0.99973494],\n",
              "       [0.7455096 ],\n",
              "       [0.99998283],\n",
              "       [0.67590004],\n",
              "       [0.05791003],\n",
              "       [0.99999875],\n",
              "       [0.9999972 ],\n",
              "       [0.9999802 ],\n",
              "       [0.99999714],\n",
              "       [0.999993  ],\n",
              "       [0.9971747 ],\n",
              "       [1.        ],\n",
              "       [0.99975395],\n",
              "       [1.        ],\n",
              "       [0.99988335],\n",
              "       [0.99991226],\n",
              "       [0.99999774],\n",
              "       [0.9790395 ],\n",
              "       [0.7898621 ],\n",
              "       [0.12342891],\n",
              "       [0.9999295 ],\n",
              "       [0.9849061 ],\n",
              "       [0.9876549 ],\n",
              "       [0.99984473],\n",
              "       [0.9955579 ],\n",
              "       [0.9992219 ],\n",
              "       [0.9883863 ],\n",
              "       [0.9887533 ],\n",
              "       [0.98819166],\n",
              "       [0.99997675],\n",
              "       [0.05884495],\n",
              "       [0.9945748 ],\n",
              "       [0.99893004],\n",
              "       [0.93076503],\n",
              "       [0.99453735],\n",
              "       [0.99991727],\n",
              "       [0.9999889 ],\n",
              "       [0.9718646 ],\n",
              "       [0.99910116],\n",
              "       [0.99858344],\n",
              "       [0.9957887 ],\n",
              "       [0.9999876 ],\n",
              "       [0.99969065],\n",
              "       [0.99964446],\n",
              "       [0.99998844],\n",
              "       [0.9938407 ],\n",
              "       [0.9997503 ],\n",
              "       [0.9949019 ],\n",
              "       [0.99344605],\n",
              "       [0.9788626 ],\n",
              "       [0.98695266],\n",
              "       [0.9979167 ],\n",
              "       [0.9912267 ],\n",
              "       [0.9985773 ],\n",
              "       [0.9992202 ],\n",
              "       [0.99999154],\n",
              "       [0.99468803],\n",
              "       [0.99946   ],\n",
              "       [0.9817271 ],\n",
              "       [0.8315617 ],\n",
              "       [0.99999356],\n",
              "       [0.98820806],\n",
              "       [0.9991059 ],\n",
              "       [0.9984063 ],\n",
              "       [0.99975264],\n",
              "       [0.99975264],\n",
              "       [0.99951935],\n",
              "       [0.9988704 ],\n",
              "       [0.9968721 ],\n",
              "       [0.9997931 ],\n",
              "       [0.99676186],\n",
              "       [0.9485729 ],\n",
              "       [0.99989057],\n",
              "       [0.9999964 ],\n",
              "       [0.9999998 ],\n",
              "       [0.9976945 ],\n",
              "       [0.98583347],\n",
              "       [0.99999714],\n",
              "       [0.6173022 ],\n",
              "       [0.99742544],\n",
              "       [0.999525  ],\n",
              "       [0.99943805],\n",
              "       [0.9999857 ],\n",
              "       [0.994435  ],\n",
              "       [0.5241063 ],\n",
              "       [0.9486534 ],\n",
              "       [0.93929136],\n",
              "       [1.        ],\n",
              "       [0.99999255],\n",
              "       [0.3762897 ],\n",
              "       [0.9977362 ],\n",
              "       [0.999331  ],\n",
              "       [0.959152  ],\n",
              "       [0.9999999 ],\n",
              "       [0.999822  ],\n",
              "       [0.99935555],\n",
              "       [0.9999974 ],\n",
              "       [0.9832812 ],\n",
              "       [0.9741645 ],\n",
              "       [0.9882852 ],\n",
              "       [0.9999998 ],\n",
              "       [0.9999997 ],\n",
              "       [0.9994868 ],\n",
              "       [0.9999326 ],\n",
              "       [0.9999964 ],\n",
              "       [1.        ],\n",
              "       [0.9999997 ],\n",
              "       [0.9240016 ],\n",
              "       [0.99752796],\n",
              "       [0.9267112 ],\n",
              "       [0.9899748 ],\n",
              "       [0.989846  ],\n",
              "       [0.9997204 ],\n",
              "       [0.9956924 ],\n",
              "       [0.9933349 ],\n",
              "       [0.99973667],\n",
              "       [0.72006536],\n",
              "       [0.99252266],\n",
              "       [0.9953004 ],\n",
              "       [0.991442  ],\n",
              "       [0.99605346],\n",
              "       [0.98893714],\n",
              "       [0.9995972 ],\n",
              "       [0.9060241 ],\n",
              "       [0.8763639 ],\n",
              "       [0.99739623],\n",
              "       [0.99917233],\n",
              "       [0.99953544],\n",
              "       [0.99937415],\n",
              "       [0.9990525 ],\n",
              "       [0.9998433 ],\n",
              "       [0.99949723],\n",
              "       [0.97941375],\n",
              "       [0.79184973],\n",
              "       [0.9891494 ],\n",
              "       [0.99973   ],\n",
              "       [0.9983377 ],\n",
              "       [0.9992186 ],\n",
              "       [0.9831487 ],\n",
              "       [0.9551368 ],\n",
              "       [0.9976841 ],\n",
              "       [0.99958205],\n",
              "       [0.9882032 ],\n",
              "       [0.70310605],\n",
              "       [0.9395304 ],\n",
              "       [0.9999907 ],\n",
              "       [0.99839306],\n",
              "       [0.9996833 ],\n",
              "       [0.99785733],\n",
              "       [0.9985801 ],\n",
              "       [0.99886787],\n",
              "       [0.99010336],\n",
              "       [0.9988525 ],\n",
              "       [0.9986454 ],\n",
              "       [0.98583484],\n",
              "       [1.        ],\n",
              "       [0.999084  ],\n",
              "       [0.99890864],\n",
              "       [0.9987931 ],\n",
              "       [0.9939243 ],\n",
              "       [0.999163  ],\n",
              "       [0.99796265],\n",
              "       [0.9998675 ],\n",
              "       [0.9992908 ],\n",
              "       [0.9994055 ],\n",
              "       [0.99893194],\n",
              "       [0.9928176 ],\n",
              "       [0.99934447],\n",
              "       [0.9900606 ],\n",
              "       [0.9690459 ],\n",
              "       [0.9783529 ],\n",
              "       [0.9987006 ],\n",
              "       [0.99907494],\n",
              "       [0.9784466 ],\n",
              "       [0.983587  ],\n",
              "       [0.9999998 ],\n",
              "       [0.9977354 ],\n",
              "       [0.9999793 ],\n",
              "       [0.9903331 ],\n",
              "       [0.9595506 ],\n",
              "       [0.9163567 ],\n",
              "       [0.9999981 ],\n",
              "       [0.999998  ],\n",
              "       [0.99999964],\n",
              "       [0.9999255 ],\n",
              "       [0.99981105],\n",
              "       [0.9990066 ],\n",
              "       [0.99836576],\n",
              "       [0.99999994],\n",
              "       [0.9998111 ],\n",
              "       [0.9959066 ],\n",
              "       [0.9999995 ],\n",
              "       [0.99997157],\n",
              "       [0.9999974 ],\n",
              "       [0.13249806],\n",
              "       [0.9999881 ],\n",
              "       [0.9999981 ],\n",
              "       [0.99992764],\n",
              "       [1.        ],\n",
              "       [0.99997467],\n",
              "       [0.99999905],\n",
              "       [0.9995445 ],\n",
              "       [0.9999987 ],\n",
              "       [0.99999976],\n",
              "       [1.        ],\n",
              "       [0.99971926],\n",
              "       [0.95965385],\n",
              "       [0.9999087 ],\n",
              "       [0.9997238 ],\n",
              "       [0.9995308 ],\n",
              "       [0.9984764 ],\n",
              "       [0.99978936],\n",
              "       [0.75045896],\n",
              "       [0.93575644],\n",
              "       [0.42990237],\n",
              "       [0.01530495],\n",
              "       [0.9987409 ],\n",
              "       [0.9999998 ],\n",
              "       [0.99987805],\n",
              "       [0.9999999 ],\n",
              "       [0.99999994],\n",
              "       [0.99880505],\n",
              "       [0.99999815],\n",
              "       [0.999998  ],\n",
              "       [0.99999994],\n",
              "       [0.91853356],\n",
              "       [0.9995065 ],\n",
              "       [0.9916108 ],\n",
              "       [0.9999999 ],\n",
              "       [0.99999833],\n",
              "       [0.9994555 ],\n",
              "       [1.        ],\n",
              "       [0.9999998 ],\n",
              "       [0.9999878 ],\n",
              "       [0.9992579 ],\n",
              "       [0.985451  ],\n",
              "       [0.9318197 ]], dtype=float32)"
            ]
          },
          "metadata": {
            "tags": []
          },
          "execution_count": 283
        }
      ]
    },
    {
      "cell_type": "code",
      "metadata": {
        "id": "JyqTqPCIDWa6",
        "colab_type": "code",
        "outputId": "d109f317-a6f5-4d29-ab39-9caacf0be5cb",
        "colab": {
          "base_uri": "https://localhost:8080/",
          "height": 521
        }
      },
      "source": [
        "test_image_gen.classes #The real classes of the images"
      ],
      "execution_count": 0,
      "outputs": [
        {
          "output_type": "execute_result",
          "data": {
            "text/plain": [
              "array([0, 0, 0, 0, 0, 0, 0, 0, 0, 0, 0, 0, 0, 0, 0, 0, 0, 0, 0, 0, 0, 0,\n",
              "       0, 0, 0, 0, 0, 0, 0, 0, 0, 0, 0, 0, 0, 0, 0, 0, 0, 0, 0, 0, 0, 0,\n",
              "       0, 0, 0, 0, 0, 0, 0, 0, 0, 0, 0, 0, 0, 0, 0, 0, 0, 0, 0, 0, 0, 0,\n",
              "       0, 0, 0, 0, 0, 0, 0, 0, 0, 0, 0, 0, 0, 0, 0, 0, 0, 0, 0, 0, 0, 0,\n",
              "       0, 0, 0, 0, 0, 0, 0, 0, 0, 0, 0, 0, 0, 0, 0, 0, 0, 0, 0, 0, 0, 0,\n",
              "       0, 0, 0, 0, 0, 0, 0, 0, 0, 0, 0, 0, 0, 0, 0, 0, 0, 0, 0, 0, 0, 0,\n",
              "       0, 0, 0, 0, 0, 0, 0, 0, 0, 0, 0, 0, 0, 0, 0, 0, 0, 0, 0, 0, 0, 0,\n",
              "       0, 0, 0, 0, 0, 0, 0, 0, 0, 0, 0, 0, 0, 0, 0, 0, 0, 0, 0, 0, 0, 0,\n",
              "       0, 0, 0, 0, 0, 0, 0, 0, 0, 0, 0, 0, 0, 0, 0, 0, 0, 0, 0, 0, 0, 0,\n",
              "       0, 0, 0, 0, 0, 0, 0, 0, 0, 0, 0, 0, 0, 0, 0, 0, 0, 0, 0, 0, 0, 0,\n",
              "       0, 0, 0, 0, 0, 0, 0, 0, 0, 0, 0, 0, 0, 0, 1, 1, 1, 1, 1, 1, 1, 1,\n",
              "       1, 1, 1, 1, 1, 1, 1, 1, 1, 1, 1, 1, 1, 1, 1, 1, 1, 1, 1, 1, 1, 1,\n",
              "       1, 1, 1, 1, 1, 1, 1, 1, 1, 1, 1, 1, 1, 1, 1, 1, 1, 1, 1, 1, 1, 1,\n",
              "       1, 1, 1, 1, 1, 1, 1, 1, 1, 1, 1, 1, 1, 1, 1, 1, 1, 1, 1, 1, 1, 1,\n",
              "       1, 1, 1, 1, 1, 1, 1, 1, 1, 1, 1, 1, 1, 1, 1, 1, 1, 1, 1, 1, 1, 1,\n",
              "       1, 1, 1, 1, 1, 1, 1, 1, 1, 1, 1, 1, 1, 1, 1, 1, 1, 1, 1, 1, 1, 1,\n",
              "       1, 1, 1, 1, 1, 1, 1, 1, 1, 1, 1, 1, 1, 1, 1, 1, 1, 1, 1, 1, 1, 1,\n",
              "       1, 1, 1, 1, 1, 1, 1, 1, 1, 1, 1, 1, 1, 1, 1, 1, 1, 1, 1, 1, 1, 1,\n",
              "       1, 1, 1, 1, 1, 1, 1, 1, 1, 1, 1, 1, 1, 1, 1, 1, 1, 1, 1, 1, 1, 1,\n",
              "       1, 1, 1, 1, 1, 1, 1, 1, 1, 1, 1, 1, 1, 1, 1, 1, 1, 1, 1, 1, 1, 1,\n",
              "       1, 1, 1, 1, 1, 1, 1, 1, 1, 1, 1, 1, 1, 1, 1, 1, 1, 1, 1, 1, 1, 1,\n",
              "       1, 1, 1, 1, 1, 1, 1, 1, 1, 1, 1, 1, 1, 1, 1, 1, 1, 1, 1, 1, 1, 1,\n",
              "       1, 1, 1, 1, 1, 1, 1, 1, 1, 1, 1, 1, 1, 1, 1, 1, 1, 1, 1, 1, 1, 1,\n",
              "       1, 1, 1, 1, 1, 1, 1, 1, 1, 1, 1, 1, 1, 1, 1, 1, 1, 1, 1, 1, 1, 1,\n",
              "       1, 1, 1, 1, 1, 1, 1, 1, 1, 1, 1, 1, 1, 1, 1, 1, 1, 1, 1, 1, 1, 1,\n",
              "       1, 1, 1, 1, 1, 1, 1, 1, 1, 1, 1, 1, 1, 1, 1, 1, 1, 1, 1, 1, 1, 1,\n",
              "       1, 1, 1, 1, 1, 1, 1, 1, 1, 1, 1, 1, 1, 1, 1, 1, 1, 1, 1, 1, 1, 1,\n",
              "       1, 1, 1, 1, 1, 1, 1, 1, 1, 1, 1, 1, 1, 1, 1, 1, 1, 1, 1, 1, 1, 1,\n",
              "       1, 1, 1, 1, 1, 1, 1, 1], dtype=int32)"
            ]
          },
          "metadata": {
            "tags": []
          },
          "execution_count": 284
        }
      ]
    },
    {
      "cell_type": "markdown",
      "metadata": {
        "id": "SzLNQe5UtfQp",
        "colab_type": "text"
      },
      "source": [
        "Now to make the final predictions we must set a fixed value which is the confidence value of the preciction. If the probability is over this value we will classiy the image as Pneumonia infected. Otherwise it's normal."
      ]
    },
    {
      "cell_type": "code",
      "metadata": {
        "id": "M4vBIqPYDWey",
        "colab_type": "code",
        "colab": {}
      },
      "source": [
        "predictions = pred_probabilities > 0.9"
      ],
      "execution_count": 0,
      "outputs": []
    },
    {
      "cell_type": "code",
      "metadata": {
        "id": "I1hH_MZDDWmX",
        "colab_type": "code",
        "outputId": "ab1ea3cb-19dd-4aa5-c1f3-08fe6ebe07d0",
        "colab": {
          "base_uri": "https://localhost:8080/",
          "height": 1000
        }
      },
      "source": [
        "predictions"
      ],
      "execution_count": 0,
      "outputs": [
        {
          "output_type": "execute_result",
          "data": {
            "text/plain": [
              "array([[False],\n",
              "       [False],\n",
              "       [False],\n",
              "       [False],\n",
              "       [False],\n",
              "       [False],\n",
              "       [False],\n",
              "       [ True],\n",
              "       [False],\n",
              "       [False],\n",
              "       [False],\n",
              "       [False],\n",
              "       [False],\n",
              "       [False],\n",
              "       [False],\n",
              "       [False],\n",
              "       [ True],\n",
              "       [False],\n",
              "       [False],\n",
              "       [False],\n",
              "       [False],\n",
              "       [False],\n",
              "       [False],\n",
              "       [False],\n",
              "       [False],\n",
              "       [False],\n",
              "       [ True],\n",
              "       [False],\n",
              "       [False],\n",
              "       [False],\n",
              "       [False],\n",
              "       [False],\n",
              "       [False],\n",
              "       [False],\n",
              "       [False],\n",
              "       [False],\n",
              "       [False],\n",
              "       [False],\n",
              "       [False],\n",
              "       [False],\n",
              "       [ True],\n",
              "       [False],\n",
              "       [False],\n",
              "       [False],\n",
              "       [False],\n",
              "       [ True],\n",
              "       [ True],\n",
              "       [False],\n",
              "       [False],\n",
              "       [False],\n",
              "       [False],\n",
              "       [False],\n",
              "       [False],\n",
              "       [False],\n",
              "       [False],\n",
              "       [False],\n",
              "       [False],\n",
              "       [False],\n",
              "       [False],\n",
              "       [False],\n",
              "       [False],\n",
              "       [ True],\n",
              "       [False],\n",
              "       [False],\n",
              "       [False],\n",
              "       [False],\n",
              "       [False],\n",
              "       [ True],\n",
              "       [False],\n",
              "       [False],\n",
              "       [False],\n",
              "       [False],\n",
              "       [False],\n",
              "       [False],\n",
              "       [False],\n",
              "       [False],\n",
              "       [False],\n",
              "       [False],\n",
              "       [False],\n",
              "       [False],\n",
              "       [False],\n",
              "       [False],\n",
              "       [False],\n",
              "       [False],\n",
              "       [False],\n",
              "       [False],\n",
              "       [False],\n",
              "       [False],\n",
              "       [False],\n",
              "       [False],\n",
              "       [False],\n",
              "       [False],\n",
              "       [False],\n",
              "       [False],\n",
              "       [False],\n",
              "       [False],\n",
              "       [False],\n",
              "       [False],\n",
              "       [False],\n",
              "       [False],\n",
              "       [False],\n",
              "       [False],\n",
              "       [False],\n",
              "       [False],\n",
              "       [False],\n",
              "       [False],\n",
              "       [False],\n",
              "       [False],\n",
              "       [False],\n",
              "       [False],\n",
              "       [False],\n",
              "       [False],\n",
              "       [False],\n",
              "       [False],\n",
              "       [False],\n",
              "       [False],\n",
              "       [False],\n",
              "       [False],\n",
              "       [False],\n",
              "       [False],\n",
              "       [ True],\n",
              "       [ True],\n",
              "       [ True],\n",
              "       [ True],\n",
              "       [ True],\n",
              "       [False],\n",
              "       [ True],\n",
              "       [False],\n",
              "       [False],\n",
              "       [ True],\n",
              "       [ True],\n",
              "       [ True],\n",
              "       [ True],\n",
              "       [ True],\n",
              "       [ True],\n",
              "       [False],\n",
              "       [ True],\n",
              "       [ True],\n",
              "       [ True],\n",
              "       [ True],\n",
              "       [ True],\n",
              "       [False],\n",
              "       [ True],\n",
              "       [ True],\n",
              "       [ True],\n",
              "       [False],\n",
              "       [ True],\n",
              "       [ True],\n",
              "       [False],\n",
              "       [False],\n",
              "       [False],\n",
              "       [False],\n",
              "       [False],\n",
              "       [False],\n",
              "       [False],\n",
              "       [False],\n",
              "       [False],\n",
              "       [False],\n",
              "       [False],\n",
              "       [False],\n",
              "       [ True],\n",
              "       [False],\n",
              "       [False],\n",
              "       [False],\n",
              "       [ True],\n",
              "       [False],\n",
              "       [False],\n",
              "       [False],\n",
              "       [False],\n",
              "       [False],\n",
              "       [False],\n",
              "       [ True],\n",
              "       [False],\n",
              "       [False],\n",
              "       [False],\n",
              "       [False],\n",
              "       [False],\n",
              "       [False],\n",
              "       [False],\n",
              "       [False],\n",
              "       [False],\n",
              "       [False],\n",
              "       [ True],\n",
              "       [False],\n",
              "       [False],\n",
              "       [False],\n",
              "       [False],\n",
              "       [False],\n",
              "       [False],\n",
              "       [False],\n",
              "       [False],\n",
              "       [False],\n",
              "       [False],\n",
              "       [ True],\n",
              "       [False],\n",
              "       [False],\n",
              "       [False],\n",
              "       [False],\n",
              "       [False],\n",
              "       [False],\n",
              "       [False],\n",
              "       [False],\n",
              "       [False],\n",
              "       [False],\n",
              "       [False],\n",
              "       [False],\n",
              "       [False],\n",
              "       [False],\n",
              "       [False],\n",
              "       [False],\n",
              "       [False],\n",
              "       [False],\n",
              "       [False],\n",
              "       [False],\n",
              "       [False],\n",
              "       [False],\n",
              "       [ True],\n",
              "       [False],\n",
              "       [False],\n",
              "       [False],\n",
              "       [False],\n",
              "       [False],\n",
              "       [ True],\n",
              "       [False],\n",
              "       [False],\n",
              "       [False],\n",
              "       [ True],\n",
              "       [False],\n",
              "       [ True],\n",
              "       [False],\n",
              "       [ True],\n",
              "       [False],\n",
              "       [False],\n",
              "       [False],\n",
              "       [ True],\n",
              "       [ True],\n",
              "       [ True],\n",
              "       [ True],\n",
              "       [ True],\n",
              "       [ True],\n",
              "       [ True],\n",
              "       [ True],\n",
              "       [ True],\n",
              "       [ True],\n",
              "       [ True],\n",
              "       [ True],\n",
              "       [ True],\n",
              "       [ True],\n",
              "       [ True],\n",
              "       [ True],\n",
              "       [ True],\n",
              "       [ True],\n",
              "       [ True],\n",
              "       [ True],\n",
              "       [ True],\n",
              "       [ True],\n",
              "       [ True],\n",
              "       [ True],\n",
              "       [ True],\n",
              "       [ True],\n",
              "       [ True],\n",
              "       [ True],\n",
              "       [ True],\n",
              "       [ True],\n",
              "       [ True],\n",
              "       [ True],\n",
              "       [ True],\n",
              "       [ True],\n",
              "       [ True],\n",
              "       [ True],\n",
              "       [ True],\n",
              "       [ True],\n",
              "       [ True],\n",
              "       [ True],\n",
              "       [ True],\n",
              "       [ True],\n",
              "       [ True],\n",
              "       [ True],\n",
              "       [ True],\n",
              "       [ True],\n",
              "       [ True],\n",
              "       [ True],\n",
              "       [False],\n",
              "       [ True],\n",
              "       [False],\n",
              "       [ True],\n",
              "       [ True],\n",
              "       [False],\n",
              "       [False],\n",
              "       [ True],\n",
              "       [ True],\n",
              "       [ True],\n",
              "       [ True],\n",
              "       [ True],\n",
              "       [ True],\n",
              "       [ True],\n",
              "       [ True],\n",
              "       [ True],\n",
              "       [ True],\n",
              "       [ True],\n",
              "       [ True],\n",
              "       [ True],\n",
              "       [ True],\n",
              "       [ True],\n",
              "       [ True],\n",
              "       [ True],\n",
              "       [ True],\n",
              "       [ True],\n",
              "       [ True],\n",
              "       [ True],\n",
              "       [ True],\n",
              "       [ True],\n",
              "       [ True],\n",
              "       [ True],\n",
              "       [ True],\n",
              "       [ True],\n",
              "       [ True],\n",
              "       [False],\n",
              "       [ True],\n",
              "       [ True],\n",
              "       [ True],\n",
              "       [ True],\n",
              "       [False],\n",
              "       [ True],\n",
              "       [ True],\n",
              "       [ True],\n",
              "       [ True],\n",
              "       [ True],\n",
              "       [ True],\n",
              "       [ True],\n",
              "       [ True],\n",
              "       [ True],\n",
              "       [ True],\n",
              "       [ True],\n",
              "       [False],\n",
              "       [False],\n",
              "       [False],\n",
              "       [ True],\n",
              "       [ True],\n",
              "       [ True],\n",
              "       [ True],\n",
              "       [False],\n",
              "       [ True],\n",
              "       [ True],\n",
              "       [ True],\n",
              "       [ True],\n",
              "       [ True],\n",
              "       [ True],\n",
              "       [ True],\n",
              "       [ True],\n",
              "       [ True],\n",
              "       [ True],\n",
              "       [ True],\n",
              "       [ True],\n",
              "       [ True],\n",
              "       [ True],\n",
              "       [False],\n",
              "       [ True],\n",
              "       [ True],\n",
              "       [ True],\n",
              "       [ True],\n",
              "       [ True],\n",
              "       [ True],\n",
              "       [ True],\n",
              "       [ True],\n",
              "       [ True],\n",
              "       [ True],\n",
              "       [ True],\n",
              "       [ True],\n",
              "       [ True],\n",
              "       [ True],\n",
              "       [False],\n",
              "       [ True],\n",
              "       [ True],\n",
              "       [ True],\n",
              "       [ True],\n",
              "       [ True],\n",
              "       [ True],\n",
              "       [ True],\n",
              "       [False],\n",
              "       [ True],\n",
              "       [ True],\n",
              "       [ True],\n",
              "       [ True],\n",
              "       [ True],\n",
              "       [ True],\n",
              "       [ True],\n",
              "       [ True],\n",
              "       [False],\n",
              "       [ True],\n",
              "       [False],\n",
              "       [False],\n",
              "       [ True],\n",
              "       [ True],\n",
              "       [ True],\n",
              "       [ True],\n",
              "       [ True],\n",
              "       [ True],\n",
              "       [ True],\n",
              "       [ True],\n",
              "       [ True],\n",
              "       [ True],\n",
              "       [ True],\n",
              "       [ True],\n",
              "       [ True],\n",
              "       [False],\n",
              "       [False],\n",
              "       [ True],\n",
              "       [ True],\n",
              "       [ True],\n",
              "       [ True],\n",
              "       [ True],\n",
              "       [ True],\n",
              "       [ True],\n",
              "       [ True],\n",
              "       [ True],\n",
              "       [ True],\n",
              "       [False],\n",
              "       [ True],\n",
              "       [ True],\n",
              "       [ True],\n",
              "       [ True],\n",
              "       [ True],\n",
              "       [ True],\n",
              "       [ True],\n",
              "       [ True],\n",
              "       [ True],\n",
              "       [ True],\n",
              "       [ True],\n",
              "       [ True],\n",
              "       [ True],\n",
              "       [ True],\n",
              "       [ True],\n",
              "       [ True],\n",
              "       [ True],\n",
              "       [ True],\n",
              "       [ True],\n",
              "       [ True],\n",
              "       [ True],\n",
              "       [ True],\n",
              "       [ True],\n",
              "       [ True],\n",
              "       [ True],\n",
              "       [ True],\n",
              "       [ True],\n",
              "       [ True],\n",
              "       [False],\n",
              "       [ True],\n",
              "       [ True],\n",
              "       [ True],\n",
              "       [ True],\n",
              "       [ True],\n",
              "       [ True],\n",
              "       [ True],\n",
              "       [ True],\n",
              "       [ True],\n",
              "       [ True],\n",
              "       [ True],\n",
              "       [ True],\n",
              "       [ True],\n",
              "       [ True],\n",
              "       [ True],\n",
              "       [ True],\n",
              "       [ True],\n",
              "       [ True],\n",
              "       [False],\n",
              "       [ True],\n",
              "       [ True],\n",
              "       [ True],\n",
              "       [ True],\n",
              "       [ True],\n",
              "       [False],\n",
              "       [ True],\n",
              "       [ True],\n",
              "       [ True],\n",
              "       [ True],\n",
              "       [False],\n",
              "       [ True],\n",
              "       [ True],\n",
              "       [ True],\n",
              "       [ True],\n",
              "       [ True],\n",
              "       [ True],\n",
              "       [ True],\n",
              "       [ True],\n",
              "       [ True],\n",
              "       [ True],\n",
              "       [ True],\n",
              "       [ True],\n",
              "       [ True],\n",
              "       [ True],\n",
              "       [ True],\n",
              "       [ True],\n",
              "       [ True],\n",
              "       [ True],\n",
              "       [ True],\n",
              "       [ True],\n",
              "       [ True],\n",
              "       [ True],\n",
              "       [ True],\n",
              "       [ True],\n",
              "       [ True],\n",
              "       [ True],\n",
              "       [False],\n",
              "       [ True],\n",
              "       [ True],\n",
              "       [ True],\n",
              "       [ True],\n",
              "       [ True],\n",
              "       [ True],\n",
              "       [ True],\n",
              "       [False],\n",
              "       [ True],\n",
              "       [ True],\n",
              "       [ True],\n",
              "       [ True],\n",
              "       [ True],\n",
              "       [ True],\n",
              "       [ True],\n",
              "       [ True],\n",
              "       [False],\n",
              "       [ True],\n",
              "       [ True],\n",
              "       [ True],\n",
              "       [ True],\n",
              "       [ True],\n",
              "       [ True],\n",
              "       [ True],\n",
              "       [ True],\n",
              "       [ True],\n",
              "       [False],\n",
              "       [ True],\n",
              "       [ True],\n",
              "       [ True],\n",
              "       [ True],\n",
              "       [ True],\n",
              "       [ True],\n",
              "       [ True],\n",
              "       [ True],\n",
              "       [ True],\n",
              "       [ True],\n",
              "       [ True],\n",
              "       [ True],\n",
              "       [ True],\n",
              "       [ True],\n",
              "       [ True],\n",
              "       [ True],\n",
              "       [ True],\n",
              "       [ True],\n",
              "       [ True],\n",
              "       [ True],\n",
              "       [ True],\n",
              "       [ True],\n",
              "       [ True],\n",
              "       [ True],\n",
              "       [ True],\n",
              "       [ True],\n",
              "       [ True],\n",
              "       [ True],\n",
              "       [ True],\n",
              "       [ True],\n",
              "       [ True],\n",
              "       [ True],\n",
              "       [ True],\n",
              "       [ True],\n",
              "       [ True],\n",
              "       [ True],\n",
              "       [ True],\n",
              "       [ True],\n",
              "       [ True],\n",
              "       [ True],\n",
              "       [ True],\n",
              "       [ True],\n",
              "       [ True],\n",
              "       [ True],\n",
              "       [ True],\n",
              "       [ True],\n",
              "       [ True],\n",
              "       [ True],\n",
              "       [ True],\n",
              "       [ True],\n",
              "       [False],\n",
              "       [ True],\n",
              "       [ True],\n",
              "       [ True],\n",
              "       [ True],\n",
              "       [ True],\n",
              "       [ True],\n",
              "       [ True],\n",
              "       [ True],\n",
              "       [ True],\n",
              "       [ True],\n",
              "       [ True],\n",
              "       [ True],\n",
              "       [ True],\n",
              "       [ True],\n",
              "       [ True],\n",
              "       [ True],\n",
              "       [ True],\n",
              "       [False],\n",
              "       [ True],\n",
              "       [False],\n",
              "       [False],\n",
              "       [ True],\n",
              "       [ True],\n",
              "       [ True],\n",
              "       [ True],\n",
              "       [ True],\n",
              "       [ True],\n",
              "       [ True],\n",
              "       [ True],\n",
              "       [ True],\n",
              "       [ True],\n",
              "       [ True],\n",
              "       [ True],\n",
              "       [ True],\n",
              "       [ True],\n",
              "       [ True],\n",
              "       [ True],\n",
              "       [ True],\n",
              "       [ True],\n",
              "       [ True],\n",
              "       [ True],\n",
              "       [ True]])"
            ]
          },
          "metadata": {
            "tags": []
          },
          "execution_count": 307
        }
      ]
    },
    {
      "cell_type": "markdown",
      "metadata": {
        "id": "jvulmtWiucX4",
        "colab_type": "text"
      },
      "source": [
        "Even though it's boolean values(True and false), the classification_report and confusion_matrix will interpret True as 1 and False as 0."
      ]
    },
    {
      "cell_type": "code",
      "metadata": {
        "id": "2elPq19HDWkg",
        "colab_type": "code",
        "colab": {}
      },
      "source": [
        "from sklearn.metrics import classification_report,confusion_matrix"
      ],
      "execution_count": 0,
      "outputs": []
    },
    {
      "cell_type": "code",
      "metadata": {
        "id": "sphJ8z0cDWiv",
        "colab_type": "code",
        "outputId": "bff30809-ff34-49e5-eea4-e691fa07dc4f",
        "colab": {
          "base_uri": "https://localhost:8080/",
          "height": 173
        }
      },
      "source": [
        "print(classification_report(y_test,predictions))"
      ],
      "execution_count": 0,
      "outputs": [
        {
          "output_type": "stream",
          "text": [
            "              precision    recall  f1-score   support\n",
            "\n",
            "         0.0       0.86      0.83      0.85       234\n",
            "         1.0       0.90      0.92      0.91       390\n",
            "\n",
            "    accuracy                           0.89       624\n",
            "   macro avg       0.88      0.87      0.88       624\n",
            "weighted avg       0.89      0.89      0.89       624\n",
            "\n"
          ],
          "name": "stdout"
        }
      ]
    },
    {
      "cell_type": "code",
      "metadata": {
        "id": "G0rpVHMGDde0",
        "colab_type": "code",
        "outputId": "446298e6-1964-4118-afbb-c114c22fc9ac",
        "colab": {
          "base_uri": "https://localhost:8080/",
          "height": 52
        }
      },
      "source": [
        "confusion_matrix(y_test,predictions)"
      ],
      "execution_count": 0,
      "outputs": [
        {
          "output_type": "execute_result",
          "data": {
            "text/plain": [
              "array([[194,  40],\n",
              "       [ 31, 359]])"
            ]
          },
          "metadata": {
            "tags": []
          },
          "execution_count": 310
        }
      ]
    },
    {
      "cell_type": "markdown",
      "metadata": {
        "id": "-nIDkPmtu0iP",
        "colab_type": "text"
      },
      "source": [
        "As we can see we trained a model which was able to predict Pneumonia presence with accuracy of 0.89 percent using CNN.\n",
        "\n",
        "We can save the model for later by using the following line."
      ]
    },
    {
      "cell_type": "code",
      "metadata": {
        "id": "U5WGYCzlHKaC",
        "colab_type": "code",
        "colab": {}
      },
      "source": [
        "from tensorflow.keras.models import load_model\n",
        "model.save('malaria_detector.h5')"
      ],
      "execution_count": 0,
      "outputs": []
    },
    {
      "cell_type": "code",
      "metadata": {
        "id": "81amXr51KzqU",
        "colab_type": "code",
        "colab": {}
      },
      "source": [
        ""
      ],
      "execution_count": 0,
      "outputs": []
    }
  ]
}